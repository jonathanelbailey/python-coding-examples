{
 "cells": [
  {
   "cell_type": "markdown",
   "metadata": {
    "collapsed": true,
    "pycharm": {
     "name": "#%% md\n"
    }
   },
   "source": [
    "# Merge Two Sorted Lists\n",
    "\n",
    "Consider two singly linked lists in which each node holds a number.  Assume the lists\n",
    "are sorted, ie numbers in the lists appear in ascending order within each list.  The\n",
    "*merge* of the two lists is a list consisting of the nodes of the two lists in which\n",
    "numbers appear in ascending order.\n",
    "\n",
    "**Write a program that takes two lists, assumed to be sorted, and return their merge.\n",
    "The only field your program can change in a node is its next field.**\n",
    "\n",
    "## Solution\n",
    "\n",
    "A naive approach is to append the two lists together and sort the resulting list.\n",
    "The drawback of this approach is that it does not use the fact that the initial\n",
    "lists are sorted.  The time complexity is that of sorting, which is \n",
    "$O((n + m)log(n + m))$, where `n` and `m` are the lengths of each of the two input\n",
    "lists.\n",
    "\n",
    "A better approach, in terms of time complexity, is to traverse the two lists,\n",
    "always choosing the node containing the smaller key to continue traversing from."
   ]
  },
  {
   "cell_type": "code",
   "execution_count": 14,
   "outputs": [
    {
     "name": "stdout",
     "text": [
      "Linked List 1: node1 > node3 > node4 > node6\nLinked List 2: node2 > node5 > node7\n\n\nnode1 data: 0 next node data: 22\nnode2 data: 14 next node data: 45\nnode3 data: 22 next node data: 39\nnode4 data: 39 next node data: 54\nnode5 data: 45 next node data: 68\nnode6 data: 54 next node data: None\nnode7 data: 68 next node data: None\n\n\nhead data: 0 next node: 14\nthird data: 22 next node: 39\nfifth data: 45 next node: 54\nseventh data: 68 next node: None\n"
     ],
     "output_type": "stream"
    }
   ],
   "source": [
    "import random\n",
    "\n",
    "class ListNode:\n",
    "    def __init__(self, data=0, next_node=None):\n",
    "        self.data = data\n",
    "        self.next = next_node\n",
    "    \n",
    "    def search_list(L, key):\n",
    "        while L and L.data != key:\n",
    "            L = L.next\n",
    "        # If key was not present in the list, L will have become null.\n",
    "        return L\n",
    "    \n",
    "    # Insert new_node after node.\n",
    "    def insert_after(node, new_node):\n",
    "        new_node.next = node.next\n",
    "        node.next = new_node\n",
    "    \n",
    "    # Delete the node past this one.  Assume node is not a tail.\n",
    "    def delete_after(node):\n",
    "        node.next = node.next.next\n",
    "\n",
    "\n",
    "def merge_two_sorted_lists(L1, L2):\n",
    "    # Creates a placeholder for the result\n",
    "    dummy_head = tail = ListNode()\n",
    "    \n",
    "    while L1 and L2:\n",
    "        if L1.data < L2.data:\n",
    "            tail.next, L1 = L1, L1.next\n",
    "        else:\n",
    "            tail.next, L2 = L2, L2.next\n",
    "        tail = tail.next\n",
    "    \n",
    "    # Appends the remaining nodes of L1 or L2\n",
    "    tail.next = L1 or L2\n",
    "    return dummy_head.next\n",
    "\n",
    "node1 = ListNode(data=random.randint(0,9))\n",
    "node2 = ListNode(data=random.randint(10,19))\n",
    "node3 = ListNode(data=random.randint(20,29))\n",
    "node4 = ListNode(data=random.randint(30,39))\n",
    "node5 = ListNode(data=random.randint(40,49))\n",
    "node6 = ListNode(data=random.randint(50,59))\n",
    "node7 = ListNode(data=random.randint(60,69))\n",
    "\n",
    "node1.next = node3\n",
    "node2.next = node5\n",
    "node3.next = node4\n",
    "node4.next = node6\n",
    "node5.next = node7\n",
    "\n",
    "print(\"Linked List 1: node1 > node3 > node4 > node6\")\n",
    "print(\"Linked List 2: node2 > node5 > node7\")\n",
    "print(\"\\n\")\n",
    "print(\"node1 data: {0} next node data: {1}\".format(node1.data, node3.data))\n",
    "print(\"node2 data: {0} next node data: {1}\".format(node2.data, node5.data))\n",
    "print(\"node3 data: {0} next node data: {1}\".format(node3.data, node4.data))\n",
    "print(\"node4 data: {0} next node data: {1}\".format(node4.data, node6.data))\n",
    "print(\"node5 data: {0} next node data: {1}\".format(node5.data, node7.data))\n",
    "print(\"node6 data: {0} next node data: {1}\".format(node6.data, node6.next))\n",
    "print(\"node7 data: {0} next node data: {1}\".format(node7.data, node7.next))\n",
    "\n",
    "list_object = merge_two_sorted_lists(node1, node2)\n",
    "print(\"\\n\")\n",
    "print(\"head data: {0} next node: {1}\".format(list_object.data, list_object.next.data))\n",
    "print(\"third data: {0} next node: {1}\".format(list_object.next.next.data, list_object.next.next.next.data))\n",
    "print(\"fifth data: {0} next node: {1}\".format(list_object.next.next.next.next.data, list_object.next.next.next.next.next.data))\n",
    "print(\"seventh data: {0} next node: {1}\".format(list_object.next.next.next.next.next.next.data, list_object.next.next.next.next.next.next.next))\n"
   ],
   "metadata": {
    "collapsed": false,
    "pycharm": {
     "name": "#%%\n",
     "is_executing": false
    }
   }
  }
 ],
 "metadata": {
  "kernelspec": {
   "display_name": "Python 3",
   "language": "python",
   "name": "python3"
  },
  "language_info": {
   "codemirror_mode": {
    "name": "ipython",
    "version": 2
   },
   "file_extension": ".py",
   "mimetype": "text/x-python",
   "name": "python",
   "nbconvert_exporter": "python",
   "pygments_lexer": "ipython2",
   "version": "2.7.6"
  },
  "pycharm": {
   "stem_cell": {
    "cell_type": "raw",
    "source": [],
    "metadata": {
     "collapsed": false
    }
   }
  }
 },
 "nbformat": 4,
 "nbformat_minor": 0
}