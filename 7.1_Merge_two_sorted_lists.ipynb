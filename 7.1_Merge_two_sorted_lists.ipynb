{
 "cells": [
  {
   "cell_type": "markdown",
   "metadata": {
    "collapsed": true,
    "pycharm": {
     "name": "#%% md\n"
    }
   },
   "source": [
    "# Merge Two Sorted Lists\n",
    "\n",
    "Consider two singly linked lists in which each node holds a number.  Assume the lists\n",
    "are sorted, ie numbers in the lists appear in ascending order within each list.  The\n",
    "*merge* of the two lists is a list consisting of the nodes of the two lists in which\n",
    "numbers appear in ascending order.\n",
    "\n",
    "**Write a program that takes two lists, assumed to be sorted, and return their merge.\n",
    "The only field your program can change in a node is its next field.**\n",
    "\n",
    "## Solution\n",
    "\n",
    "A naive approach is to append the two lists together and sort the resulting list.\n",
    "The drawback of this approach is that it does not use the fact that the initial\n",
    "lists are sorted.  The time complexity is that of sorting, which is \n",
    "$O((n + m)log(n + m))$, where `n` and `m` are the lengths of each of the two input\n",
    "lists.\n",
    "\n",
    "A better approach, in terms of time complexity, is to traverse the two lists,\n",
    "always choosing the node containing the smaller key to continue traversing from."
   ]
  },
  {
   "cell_type": "code",
   "execution_count": null,
   "outputs": [],
   "source": [
    "import random\n",
    "\n",
    "class ListNode:\n",
    "    def __init__(self, data=0, next_node=None):\n",
    "        self.data = data\n",
    "        self.next = next_node\n",
    "    \n",
    "    def search_list(L, key):\n",
    "        while L and L.data != key:\n",
    "            L = L.next\n",
    "        # If key was not present in the list, L will have become null.\n",
    "        return L\n",
    "    \n",
    "    # Insert new_node after node.\n",
    "    def insert_after(node, new_node):\n",
    "        new_node.next = node.next\n",
    "        node.next = new_node\n",
    "    \n",
    "    # Delete the node past this one.  Assume node is not a tail.\n",
    "    def delete_after(node):\n",
    "        node.next = node.next.next\n",
    "\n",
    "\n",
    "def merge_two_sorted_lists(L1, L2):\n",
    "    # Creates a placeholder for the result\n",
    "    dummy_head = tail = ListNode()\n",
    "    \n",
    "    while L1 and L2:\n",
    "        if L1.data < L2.data:\n",
    "            tail.next, L1 = L1, L1.next\n",
    "        else:\n",
    "            tail.next, L2 = L2, L2.next\n",
    "        tail = tail.next\n",
    "    \n",
    "    # Appends the remaining nodes of L1 or L2\n",
    "    tail.next = L1 or L2\n",
    "    return dummy_head.next\n",
    "\n",
    "def rand(start, end, num): \n",
    "    res = [] \n",
    "  \n",
    "    for j in range(num): \n",
    "        res.append(random.randint(start, end)) \n",
    "  \n",
    "    return res \n",
    "\n",
    "num = 10\n",
    "start = 0\n",
    "end = 40\n",
    "linked_list_1 = rand(start, end, num)\n",
    "linked_list_2 = rand(start, end, num)\n"
   ],
   "metadata": {
    "collapsed": false,
    "pycharm": {
     "name": "#%%\n"
    }
   }
  }
 ],
 "metadata": {
  "kernelspec": {
   "display_name": "Python 3",
   "language": "python",
   "name": "python3"
  },
  "language_info": {
   "codemirror_mode": {
    "name": "ipython",
    "version": 2
   },
   "file_extension": ".py",
   "mimetype": "text/x-python",
   "name": "python",
   "nbconvert_exporter": "python",
   "pygments_lexer": "ipython2",
   "version": "2.7.6"
  },
  "pycharm": {
   "stem_cell": {
    "cell_type": "raw",
    "source": [],
    "metadata": {
     "collapsed": false
    }
   }
  }
 },
 "nbformat": 4,
 "nbformat_minor": 0
}