{
 "cells": [
  {
   "cell_type": "markdown",
   "metadata": {
    "collapsed": true,
    "pycharm": {
     "name": "#%% md\n"
    }
   },
   "source": [
    "# Search a Sorted Array for the First occurrence of *k*\n",
    "\n",
    "Binary search commonly asks for the index of any element of a sorted array that is\n",
    "equal to a specified element.  The following problem has a slight twist on this.\n",
    "\n",
    "**Write a method that takes a sorted array and a key and returns the index of the\n",
    "first occurrence of that key in the array.  Return -1 if the key does not appear\n",
    "in the array.**\n",
    "\n",
    "## Solution\n",
    "\n",
    "A naive approach is to use binary search to find the index of any element equal to\n",
    "the key, `k`.  (If `k` is not present, we simply return -1.) After finding such an\n",
    "element, we traverse backwards from it to find the first occurrence of that\n",
    "element.  The binary search takes time $O(\\log n)$, where `n` is the number of \n",
    "entries in the array.  Traversing backwards takes $O(n)$ time in the worst-case - \n",
    "consider the case where entries are equal to `k`.\n",
    "\n",
    "The fundamental idea of binary search is to maintain a set of candidate solutions.\n",
    "For the current problem, if we see the element at index `i` equals `k`, although\n",
    "we do not know whether `i` is the first element equal to `k`, we do know that no\n",
    "subsequent elements can be the first one.  Therefore we remove all elements with\n",
    "index $i + 1$ or more from the candidates.\n",
    "\n",
    "Let's apply the above logic to the given example with $k = 108$.  We start with all\n",
    "indices as candidates, ie with `[0,9]`.  The midpoint index, 4 contains `k`.  \n",
    "Therefore we can now update the candidate set to `[0,3]`, and record 4 as an\n",
    "occurrence of `k`.  The next midpoint is 1, and this index contains -10.  We update\n",
    "the candidate set to `[2,3]`.  The value at the midpoint 2 is 2, so we update the\n",
    "candidate set to `[3,3]`.  Since the value at this midpoint is 108, we update the\n",
    "first seen occurrence of `k` to 3.  Now the interval is `[3,2]`, which is empty, \n",
    "terminating the search - the result is 3."
   ]
  },
  {
   "cell_type": "code",
   "execution_count": 3,
   "outputs": [
    {
     "data": {
      "text/plain": "89"
     },
     "metadata": {},
     "output_type": "execute_result",
     "execution_count": 3
    }
   ],
   "source": [
    "import random\n",
    "\n",
    "def search_first_of_k(A, k):\n",
    "    left, right, result = 0, len(A) - 1, -1\n",
    "    # A[left:right + 1] is the candidate set.\n",
    "    while left <= right:\n",
    "        mid = (left + right) // 2\n",
    "        if A[mid] > k:\n",
    "            right = mid - 1\n",
    "        elif A[mid] == k:\n",
    "            result = mid\n",
    "            right = mid - 1   # Nothing to the right of mid can be solution.\n",
    "        else:   # A[mid] = k.\n",
    "            left = mid + 1\n",
    "    return result\n",
    "\n",
    "sorted_array_1 = []\n",
    "\n",
    "for i in range(100):\n",
    "    sorted_array_1.append(random.randint(0,99))\n",
    "\n",
    "sorted_array_1 = sorted(sorted_array_1)\n",
    "\n",
    "search_first_of_k(sorted_array_1, sorted_array_1[random.randint(0,99)])"
   ],
   "metadata": {
    "collapsed": false,
    "pycharm": {
     "name": "#%%\n",
     "is_executing": false
    }
   }
  },
  {
   "cell_type": "markdown",
   "source": [
    "The complexity bound is still $O(\\log n)$ - this is because each iteration reduces \n",
    "the size of the candidate set by half."
   ],
   "metadata": {
    "collapsed": false
   }
  }
 ],
 "metadata": {
  "kernelspec": {
   "display_name": "Python 3",
   "language": "python",
   "name": "python3"
  },
  "language_info": {
   "codemirror_mode": {
    "name": "ipython",
    "version": 2
   },
   "file_extension": ".py",
   "mimetype": "text/x-python",
   "name": "python",
   "nbconvert_exporter": "python",
   "pygments_lexer": "ipython2",
   "version": "2.7.6"
  },
  "pycharm": {
   "stem_cell": {
    "cell_type": "raw",
    "source": [],
    "metadata": {
     "collapsed": false
    }
   }
  }
 },
 "nbformat": 4,
 "nbformat_minor": 0
}