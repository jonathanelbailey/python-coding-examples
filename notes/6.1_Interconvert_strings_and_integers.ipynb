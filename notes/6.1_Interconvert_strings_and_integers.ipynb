{
 "cells": [
  {
   "cell_type": "markdown",
   "metadata": {
    "collapsed": true,
    "pycharm": {
     "name": "#%% md\n"
    }
   },
   "source": [
    "# Interconvert Strings and Integers\n",
    "\n",
    "A string is a sequence of characters.  A string may encode an integer, eg \"123\"\n",
    "encodes 123.  In this problem, you are to implement methods that take a string\n",
    "representing an integer and return the corresponding integer and vice versa.  The\n",
    "code should handle negative integers.  You cannot use library functions like `int`\n",
    "in Python.\n",
    "\n",
    "**Implement an integer to string conversion function, and a string to integer\n",
    "conversion function.  For example, if the input to the first function is 314,\n",
    "it should return the string \"314\" and if the input to the second function is the\n",
    "string \"314\", it should return the integer 314.**\n",
    "\n",
    "## Solution\n",
    "\n",
    "Let's consider the integer to string problem first.  If the number to convert is a\n",
    "single digit, ie it is between 0 and 9, the result is easy to compute: it is the \n",
    "string consisting of the single character encoding that digit.\n",
    "\n",
    "If the number has more than one digit, it is natural to perform the conversion digit\n",
    "by digit.  The key insight is that for any positive integer x, the least significant digit\n",
    "in the decimal representation if x is x mod 10, and the remaining digits are `x / 10`.\n",
    "This approach computes the digits in reverse orde, eg if we begin with 423, we get 3 \n",
    "and are left with 42 to convert.  Then we get 2, and are left with 4 to convert. \n",
    "Finally, we get 4 and there are no digits to convert.  The natural algorithm would\n",
    "be to prepend digits to the partial result.  However, adding a digit to the beginning\n",
    "of a string is expensive, since all remaining digits have to be moved.  A more time\n",
    "efficient approach is to add each computed digit to the end, and then reverse the \n",
    "computed sequence.\n",
    "\n",
    "If x is negative, we record that, negate x, and then add a '-' before reversing.  If\n",
    "x is 0, our code breaks out of the iteration without writing any digits, in which case\n",
    "we need to explicitly set a 0.\n",
    "\n",
    "To convert from a string to an integer we recall the basic working of a positional\n",
    "number system.  A base-10 number $d_2d_1d_0$ encodes the number \n",
    "$10^2\\times d_2 + 10^1\\times d_1 + d_0$.  A brute-force algorithm then is to begin with\n",
    "the rightmost digit, and iteratively add $10^i\\times d_i$ to a cumulative sum.  The\n",
    "efficient way to compute $10^{i+1}$ is to use the existing value $10^i$ and\n",
    "multiply that by 10.\n",
    "\n",
    "A more elegant solution is to begin from the left most digit and with each succeeding\n",
    "digit, multiply the partial result by 10 and add that digit.  For example, to convert\n",
    "\"314\" to an integer, we initial the partial result `r` to 0.  In the first iteration,\n",
    "`r = 3`, in the decond iteration, $r = 3\\times 10 + 1 = 31$, and in the third\n",
    "iteration $r = 31\\times 10 + 4 = 314$, which is the final result.\n",
    "\n",
    "Negative numbers are handled by recording the sign and negating the result."
   ]
  },
  {
   "cell_type": "code",
   "execution_count": 8,
   "outputs": [
    {
     "name": "stdout",
     "text": [
      "Starting value: -497 Integer type: <class 'int'>\nString value: -497 String type: <class 'str'>\nInteger value: -497 Integer type: <class 'int'>\n"
     ],
     "output_type": "stream"
    }
   ],
   "source": [
    "import random\n",
    "import functools\n",
    "import string\n",
    "\n",
    "def int_to_string(x):\n",
    "    is_negative = False\n",
    "    if x < 0:\n",
    "        x, is_negative = -x , True\n",
    "        \n",
    "    s = []\n",
    "    while True:\n",
    "        s.append(chr(ord('0') + x % 10))\n",
    "        x //= 10\n",
    "        if x == 0:\n",
    "            break\n",
    "    \n",
    "    # Adds the negative sign back if is_negative\n",
    "    return ('-' if is_negative else '') + ''.join(reversed(s))\n",
    "\n",
    "integer_input = random.randint(-1000, 1000)\n",
    "integer_type = type(integer_input)\n",
    "print(\"Starting value: {0} Starting type: {1}\".format(integer_input, integer_type))\n",
    "\n",
    "string_result = int_to_string(integer_input)\n",
    "string_result_type = type(string_result)\n",
    "print(\"String value: {0} String type: {1}\".format(string_result, str(string_result_type)))\n",
    "\n",
    "def string_to_int(s):\n",
    "    return functools.reduce(\n",
    "        lambda running_sum, c: running_sum * 10 + string.digits.index(c),\n",
    "        s[s[0] == '-':], 0) * (-1 if s[0] == '-' else 1)\n",
    "\n",
    "integer_result = string_to_int(string_result)\n",
    "integer_result_type = type(integer_result)\n",
    "print(\"Integer value: {0} Integer type: {1}\".format(integer_result, integer_result_type))\n"
   ],
   "metadata": {
    "collapsed": false,
    "pycharm": {
     "name": "#%%\n",
     "is_executing": false
    }
   }
  }
 ],
 "metadata": {
  "kernelspec": {
   "display_name": "Python 3",
   "language": "python",
   "name": "python3"
  },
  "language_info": {
   "codemirror_mode": {
    "name": "ipython",
    "version": 2
   },
   "file_extension": ".py",
   "mimetype": "text/x-python",
   "name": "python",
   "nbconvert_exporter": "python",
   "pygments_lexer": "ipython2",
   "version": "2.7.6"
  },
  "pycharm": {
   "stem_cell": {
    "cell_type": "raw",
    "source": [],
    "metadata": {
     "collapsed": false
    }
   }
  }
 },
 "nbformat": 4,
 "nbformat_minor": 0
}