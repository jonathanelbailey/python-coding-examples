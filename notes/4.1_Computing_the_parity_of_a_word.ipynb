{
 "cells": [
  {
   "cell_type": "markdown",
   "source": [
    "# Computing the Parity of a Word\n",
    "\n",
    "The parity of a binary [word](https://www.youtube.com/watch?v=Weyv-V8xz0c) \n",
    "is 1 if the number of 1s in the word is odd; otherwise, it is 0. For example, \n",
    "the parity of 1011 is 1, and the parity of 10001000 is 0. Parity checks are \n",
    "used to detect single bit errors in data storage and communication. It is fairly\n",
    "straightforward to write code that computes the parity of a single 64-bit word.\n",
    "\n",
    "**How would you compute the parity of a very large number of 64-bit words?**\n",
    "\n",
    "## Brute Force Algorithm\n",
    "\n",
    "We can iteratively test the value of each bit while tracking the number of 1s seen\n",
    "so far.  Since we only care if the number of 1s is even or odd, we can store the \n",
    "number mod 2."
   ],
   "metadata": {
    "collapsed": false
   }
  },
  {
   "cell_type": "code",
   "execution_count": 38,
   "outputs": [
    {
     "data": {
      "text/plain": "['input integer: 9874610276674263814 parity: 1',\n 'input integer: 9874610276674263814 parity: 1',\n 'input integer: 9874610276674263814 parity: 1',\n 'input integer: 9874610276674263814 parity: 1']"
     },
     "metadata": {},
     "output_type": "execute_result",
     "execution_count": 38
    }
   ],
   "source": [
    "import random\n",
    "import uuid\n",
    "import os\n",
    "import secrets\n",
    "\n",
    "random_64_bit_word = random.getrandbits(64)\n",
    "uuid_64_bit_word = uuid.uuid4().int & (1<<64)-1\n",
    "urandom_64_bit_word = int.from_bytes(os.urandom(8), byteorder='big')\n",
    "secrets_64_bit_work = secrets.randbelow(2**64)\n",
    "\n",
    "def parity(x):\n",
    "    result = 0\n",
    "    while x:\n",
    "        result ^= x & 1\n",
    "        x >>= 1\n",
    "    return result\n",
    "\n",
    "example_inputs = []\n",
    "\n",
    "example_inputs.append(random_64_bit_word)\n",
    "example_inputs.append(uuid_64_bit_word)\n",
    "example_inputs.append(urandom_64_bit_word)\n",
    "example_inputs.append(secrets_64_bit_work)\n",
    "\n",
    "def print_outputs(inputs):\n",
    "    result = []\n",
    "    for i in inputs:\n",
    "        result.append(\"input integer: %i parity: %i\" % (e, parity(e)))\n",
    "    return result\n",
    "        \n",
    "print_outputs(example_inputs)"
   ],
   "metadata": {
    "collapsed": false,
    "pycharm": {
     "name": "#%%\n",
     "is_executing": false
    }
   }
  },
  {
   "cell_type": "markdown",
   "source": [
    "The time complexity is *O(n)*, where *n* is the word size.\n",
    "\n",
    "## Improving Performance\n",
    "\n",
    "The first improvement is based on erasing the lowest set bit in a word in a single\n",
    "operation, thereby improving performance in the best- and average-cases.\n",
    "\n",
    "### Bit fiddling Trick\n",
    "\n",
    "`x &(x - 1)` equals `x` with its lowest set bit erased.\n",
    "\n",
    "You can find the lowest set bit using `x & (~x + 1):\n",
    "\n",
    "```\n",
    "    x: 01101100\n",
    " ~x+1: 10010100\n",
    "       --------\n",
    "       00000100\n",
    "```\n",
    "\n",
    "Dropping the lowest set bit will then become `x & ~(x & (~x + 1))`:\n",
    "\n",
    "```\n",
    "          x: 01101100\n",
    "~(x&(~x+1)): 11111011\n",
    "             --------\n",
    "             01101000\n",
    "```\n",
    "\n",
    "This is equivalent to `x &(x - 1)` which is clearer and easier to use."
   ],
   "metadata": {
    "collapsed": false,
    "pycharm": {
     "name": "#%% md\n"
    }
   }
  },
  {
   "cell_type": "code",
   "execution_count": 34,
   "outputs": [
    {
     "data": {
      "text/plain": "['input integer: 9874610276674263814 parity: 1',\n 'input integer: 9874610276674263814 parity: 1',\n 'input integer: 9874610276674263814 parity: 1',\n 'input integer: 9874610276674263814 parity: 1']"
     },
     "metadata": {},
     "output_type": "execute_result",
     "execution_count": 34
    }
   ],
   "source": [
    "def parity(x):\n",
    "    result = 0\n",
    "    while x:\n",
    "        result ^= 1\n",
    "        x &= x - 1   # Drips the lowest set bit of x.\n",
    "    return result\n",
    "\n",
    "print_outputs(example_inputs)"
   ],
   "metadata": {
    "collapsed": false,
    "pycharm": {
     "name": "#%%\n",
     "is_executing": false
    }
   }
  },
  {
   "cell_type": "markdown",
   "source": [
    "And when comparing the times of each version of the `parity()` function:"
   ],
   "metadata": {
    "collapsed": false
   }
  },
  {
   "cell_type": "code",
   "execution_count": 66,
   "outputs": [
    {
     "name": "stdout",
     "text": [
      "Brute force parity function time: 0.00363140000263229 seconds\nDrop lowest set bit parity function time: 0.00022650000755675137 seconds\nDrop lowest set bit is 93.76% faster than brute force.\n"
     ],
     "output_type": "stream"
    }
   ],
   "source": [
    "import timeit\n",
    "\n",
    "brute_force_parity = \"\"\"\n",
    "import uuid\n",
    "\n",
    "uuid_64_bit_word = uuid.uuid4().int & (1<<64)-1\n",
    "\n",
    "def parity(x):\n",
    "    result = 0\n",
    "    while x:\n",
    "        result ^= x & 1\n",
    "        x >>= 1\n",
    "    return result\n",
    "    \n",
    "parity(uuid_64_bit_word)\n",
    "\"\"\"\n",
    "\n",
    "drop_lowest_set_bit_parity = \"\"\"\n",
    "import uuid\n",
    "\n",
    "uuid_64_bit_word = uuid.uuid4().int & (1<<64)-1\n",
    "\n",
    "def parity(x):\n",
    "    result = 0\n",
    "    while x:\n",
    "        result ^= 1\n",
    "        x &= x - 1   # Drops the lowest set bit of x.\n",
    "    return result\n",
    "\n",
    "parity(uuid_64_bit_word)\n",
    "\"\"\"\n",
    "\n",
    "brute_force_result = timeit.timeit(brute_force_parity, number=10)\n",
    "drop_lowest_set_bit_result = timeit.timeit(drop_lowest_set_bit_parity, number=10)\n",
    "print(\"Brute force parity function time: {0} seconds\".format(brute_force_result))\n",
    "print(\"Drop lowest set bit parity function time: {0} seconds\".format(drop_lowest_set_bit_result))\n",
    "percent = drop_lowest_set_bit_result / brute_force_result\n",
    "difference = (1 - percent) * 100\n",
    "print(\"Drop lowest set bit is {:.2f}% faster than brute force.\".format(difference))"
   ],
   "metadata": {
    "collapsed": false,
    "pycharm": {
     "name": "#%%\n",
     "is_executing": false
    }
   }
  },
  {
   "cell_type": "markdown",
   "source": [
    "As you can see, the performance improvement can be quite dramatic.\n",
    "\n",
    "## Lookup Table Solution\n",
    "\n",
    "The problem statement refers to computing the parity for a very large number of \n",
    "words.  When you have to perform a large number of parity computations, two keys \n",
    "to performance are processing multiple bits at a time and caching results in an\n",
    "array-based lookup table.\n",
    "\n",
    "First, we demonstrate caching.  When computing the parity of a collection of\n",
    "bits, it does not matter how we group those bits, ie the computation is\n",
    "associative.  Therfore, we can compute the parity of a 64-bit integer by grouping\n",
    "its bits into four nonoverlapping 16-bit subwords, computing the parity of each\n",
    "subwords, and then computing the parity of these four subresults.  We choose 16\n",
    "since 2<sup>16</sup> = 65536 is relatively small, which makes it feasible to cache\n",
    "the parity of all 16-bit words using an array.  Furthermore, since 16 eventually\n",
    "divides 64, the code is simpler than if we were, for example, to use 10 bit\n",
    "subwords.\n",
    "\n",
    "### Lookup table for 2-bit Words\n",
    "\n",
    "The cache is (0,1,1,0).  These are the parities of (00), (01), (10), (11),\n",
    "respectively.  To compute the parity of (11001010) we would compute the parities\n",
    "of (11), (00), (10), (10).  By table lookup we see these are 0,0,1,1, respectively.\n",
    "So, the finally result is the parity of 0,0,1,1 which is 0.\n",
    "\n",
    "To look up the parity of the first two bits in (11101010), we right shift by 6 to\n",
    "get (00000011), and use this as an index into the cache.  To lookup the parity of\n",
    "the next two bits, ie (10), we right shift by 4 to get (10) in the two\n",
    "least-significant bit places.  The right shift does not remove the leading (11).\n",
    "It results in (00001110).  We cannot index the cache with this; it leads to an \n",
    "out-of-bounds access.  To get the last two bits after the right shift by 4, we\n",
    "bitwise-AND(00001110) with (00000011).  This is the \"mask\" used to extract the\n",
    "last two bits.  The result is (00000010).  Similar masking is needed for the two\n",
    "other 2-bit lookups.\n",
    "\n",
    "```python\n",
    "def parity(x):\n",
    "    MASK_SIZE = 16\n",
    "    BIT_MASK = 0xFFFF\n",
    "    return (PRECOMPUTED_PARITY[x >> (3 * MASK_SIZE)] ^\n",
    "            PRECOMPUTED_PARITY[(x >> (2 * MASK_SIZE)) & BIT_MASK] ^\n",
    "            PRECOMPUTED_PARITY[(x >> MASK_SIZE) & BIT_MASK] ^\n",
    "            PRECOMPUTED_PARITY[x & BIT_MASK])\n",
    "```\n",
    "\n",
    "The time complexity is a function of the size of the keys used to index the lookup\n",
    "table.  Let *L* be the width of the words for which we cache the results, and *n* \n",
    "the word size.  Since there are *n|L* terms, the time complexity is *O{n|L)*,\n",
    "assuming word-level operations, such as shifting, taking *O(1)* time.\n",
    "\n",
    "We can improve on the worst case time complexity of the previous algorithms by \n",
    "exploiting some simple properties of parity.  Specifically, the XOR of two bits \n",
    "is defined to be 0 if both bits are 0 or both bits are 1; otherwise it is 1.\n",
    "XOR has the property of being associative , ie it does not matter how we group\n",
    "bits; it is also commutative, ie the order in which we perform the XORs does\n",
    "not change the result.  The XOR of a group of bits is its parity.  We can exploit\n",
    "this fact to use the CPU's word-level XOR instruction to process multiple bits\n",
    "at a time."
   ],
   "metadata": {
    "collapsed": false
   }
  },
  {
   "cell_type": "code",
   "execution_count": 67,
   "outputs": [
    {
     "data": {
      "text/plain": "['input integer: 9874610276674263814 parity: 1',\n 'input integer: 9874610276674263814 parity: 1',\n 'input integer: 9874610276674263814 parity: 1',\n 'input integer: 9874610276674263814 parity: 1']"
     },
     "metadata": {},
     "output_type": "execute_result",
     "execution_count": 67
    }
   ],
   "source": [
    "def parity(x):\n",
    "    x ^= x >> 32\n",
    "    x ^= x >> 16\n",
    "    x ^= x >> 8\n",
    "    x ^= x >> 4\n",
    "    x ^= x >> 2\n",
    "    x ^= x >> 1\n",
    "    return x & 0x1\n",
    "\n",
    "print_outputs(example_inputs)\n",
    "\n"
   ],
   "metadata": {
    "collapsed": false,
    "pycharm": {
     "name": "#%%\n",
     "is_executing": false
    }
   }
  },
  {
   "cell_type": "markdown",
   "source": [
    "The time complexity is O(log n), where n is the word size.  The actual runtime\n",
    "depends on the input data, eg the refinement of the brute force algorithm is\n",
    "very fast on sparse inputs.  However, for random inputs, the refinement of the\n",
    "brute force is roughly 20% faster than the brute force algorithm.  The table based\n",
    "approach is four times faster still, and using associativity reduces run time by\n",
    "another factor of two.\n",
    "\n",
    "[References](../reference/4.1.md)\n"
   ],
   "metadata": {
    "collapsed": false
   }
  }
 ],
 "metadata": {
  "kernelspec": {
   "display_name": "Python 3",
   "language": "python",
   "name": "python3"
  },
  "language_info": {
   "codemirror_mode": {
    "name": "ipython",
    "version": 2
   },
   "file_extension": ".py",
   "mimetype": "text/x-python",
   "name": "python",
   "nbconvert_exporter": "python",
   "pygments_lexer": "ipython2",
   "version": "2.7.6"
  },
  "pycharm": {
   "stem_cell": {
    "cell_type": "raw",
    "source": [],
    "metadata": {
     "collapsed": false
    }
   }
  }
 },
 "nbformat": 4,
 "nbformat_minor": 0
}