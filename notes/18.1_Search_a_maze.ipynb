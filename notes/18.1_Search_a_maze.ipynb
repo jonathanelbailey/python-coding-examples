{
 "cells": [
  {
   "cell_type": "markdown",
   "metadata": {
    "collapsed": true,
    "pycharm": {
     "name": "#%% md\n"
    }
   },
   "source": [
    "# Search A Maze\n",
    "\n",
    "It is natural to apply graph models and algorithms to spatial problems.\n",
    "Consider a black and white digitized image of a maze - white pixels represent\n",
    "open areas and black spaces are walls.  There are two special white pixels:\n",
    "one is designated the entrance and the other is the exit.  The goal in this\n",
    "problem is to find a way of getting from the entrance to the exit.\n",
    "\n",
    "**Given a 2D array of black and white entries representing a maze with designated\n",
    "entrancce and exit points, find a path from the entrance to the exit, if \n",
    "one exists.**\n",
    "\n",
    "# Solution\n",
    "\n",
    "A brute-force approach would be to enumerate every possible path from entry\n",
    "to exit.  However we know that the number of paths is astronomical.  Of \n",
    "course, pruning helps, since we can stop as soon as a path hits a black \n",
    "pixel, but the worst case behavior of enumerative approaches is still very\n",
    "bad.\n",
    "\n",
    "Another approach is to perform a random walk moving from a white pixel to a\n",
    "random adjacent white pixel.  Given enough time this will find a path, if\n",
    "one exists.  However, it repeats visits, which retards the progress.  The\n",
    "random walk does suggest the right way - we should keep track of pixels\n",
    "that we have already visited.  This is exactly what DFS and BFS do to ensure\n",
    "progress.\n",
    "\n",
    "Now, run a DFS starting from the vertex corresponding to the entrance.  If\n",
    "at some point, we discover the exit vertex in the DFS, then there exists\n",
    "a path from the entrance to the exit.  If we implement recursive DFS then\n",
    "the path would consist of all the vertices in the call stack corresponding\n",
    "to previous recursive calls to the DFS routine.\n",
    "\n",
    "This problem can also be solved using BFS from the entrance vertex on the\n",
    "same graph model.  The BFS tree has the property that the computed path will\n",
    "be a shortest path from the entrance.  However BFS is more difficult to\n",
    "implement than DFS since in DFS, the compiler implicitly handles the DFS\n",
    "stack, whereas in BFS, the queue has to be explicitly coded.  Since the \n",
    "problem did not call for a shortest path, it is better to use DFS."
   ]
  },
  {
   "cell_type": "code",
   "execution_count": null,
   "outputs": [],
   "source": [
    "\n"
   ],
   "metadata": {
    "collapsed": false,
    "pycharm": {
     "name": "#%%\n"
    }
   }
  }
 ],
 "metadata": {
  "kernelspec": {
   "display_name": "Python 3",
   "language": "python",
   "name": "python3"
  },
  "language_info": {
   "codemirror_mode": {
    "name": "ipython",
    "version": 2
   },
   "file_extension": ".py",
   "mimetype": "text/x-python",
   "name": "python",
   "nbconvert_exporter": "python",
   "pygments_lexer": "ipython2",
   "version": "2.7.6"
  },
  "pycharm": {
   "stem_cell": {
    "cell_type": "raw",
    "source": [],
    "metadata": {
     "collapsed": false
    }
   }
  }
 },
 "nbformat": 4,
 "nbformat_minor": 0
}