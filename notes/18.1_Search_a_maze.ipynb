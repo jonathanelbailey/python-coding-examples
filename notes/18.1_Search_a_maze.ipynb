{
 "cells": [
  {
   "cell_type": "markdown",
   "metadata": {
    "collapsed": true,
    "pycharm": {
     "name": "#%% md\n"
    }
   },
   "source": [
    "# Search A Maze\n",
    "\n",
    "It is natural to apply graph models and algorithms to spatial problems.\n",
    "Consider a black and white digitized image of a maze - white pixels represent\n",
    "open areas and black spaces are walls.  There are two special white pixels:\n",
    "one is designated the entrance and the other is the exit.  The goal in this\n",
    "problem is to find a way of getting from the entrance to the exit.\n",
    "\n",
    "**Given a 2D array of black and white entries representing a maze with designated\n",
    "entrancce and exit points, find a path from the entrance to the exit, if \n",
    "one exists.**\n",
    "\n",
    "# Solution\n",
    "\n",
    "A brute-force approach would be to enumerate every possible path from entry\n",
    "to exit.  However we know that the number of paths is astronomical.  Of \n",
    "course, pruning helps, since we can stop as soon as a path hits a black \n",
    "pixel, but the worst case behavior of enumerative approaches is still very\n",
    "bad.\n",
    "\n",
    "Another approach is to perform a random walk moving from a white pixel to a\n",
    "random adjacent white pixel.  Given enough time this will find a path, if\n",
    "one exists.  However, it repeats visits, which retards the progress.  The\n",
    "random walk does suggest the right way - we should keep track of pixels\n",
    "that we have already visited.  This is exactly what DFS and BFS do to ensure\n",
    "progress.\n",
    "\n",
    "Now, run a DFS starting from the vertex corresponding to the entrance.  If\n",
    "at some point, we discover the exit vertex in the DFS, then there exists\n",
    "a path from the entrance to the exit.  If we implement recursive DFS then\n",
    "the path would consist of all the vertices in the call stack corresponding\n",
    "to previous recursive calls to the DFS routine.\n",
    "\n",
    "This problem can also be solved using BFS from the entrance vertex on the\n",
    "same graph model.  The BFS tree has the property that the computed path will\n",
    "be a shortest path from the entrance.  However BFS is more difficult to\n",
    "implement than DFS since in DFS, the compiler implicitly handles the DFS\n",
    "stack, whereas in BFS, the queue has to be explicitly coded.  Since the \n",
    "problem did not call for a shortest path, it is better to use DFS."
   ]
  },
  {
   "cell_type": "code",
   "execution_count": 11,
   "outputs": [
    {
     "data": {
      "text/plain": "[Coordinate(x=0, y=0),\n Coordinate(x=0, y=1),\n Coordinate(x=0, y=2),\n Coordinate(x=1, y=2),\n Coordinate(x=1, y=3),\n Coordinate(x=0, y=3),\n Coordinate(x=0, y=4),\n Coordinate(x=1, y=4),\n Coordinate(x=2, y=4),\n Coordinate(x=3, y=4),\n Coordinate(x=3, y=3),\n Coordinate(x=4, y=3),\n Coordinate(x=5, y=3),\n Coordinate(x=5, y=4),\n Coordinate(x=5, y=5)]"
     },
     "metadata": {},
     "output_type": "execute_result",
     "execution_count": 11
    }
   ],
   "source": [
    "import collections\n",
    "\n",
    "WHITE, BLACK = range(2)\n",
    "\n",
    "example_maze = [[0, 0, 0, 0, 0, 1],\n",
    "                [1, 1, 0, 0, 0, 1],\n",
    "                [0, 0, 0, 1, 0, 0],\n",
    "                [0, 1, 1, 0, 0, 1],\n",
    "                [0, 1, 0, 0, 1, 0],\n",
    "                [0, 1, 0, 0, 0, 0]]\n",
    "\n",
    "Coordinate = collections.namedtuple('Coordinate', ('x', 'y'))\n",
    "\n",
    "def search_maze(maze, s, e):\n",
    "    # Perform DFS to find a feasible path.\n",
    "    def search_maze_helper(cur):\n",
    "        # Checks cur is within maze and is a white pixel.\n",
    "        if not (0 <= cur.x < len(maze) and 0 <= cur.y < len(maze[cur.x])\n",
    "                and maze[cur.x][cur.y] == WHITE):\n",
    "            return False\n",
    "        path.append(cur)\n",
    "        maze[cur.x][cur.y] = BLACK\n",
    "        if cur == e:\n",
    "            return True\n",
    "        \n",
    "        if any(\n",
    "            map(search_maze_helper, (Coordinate(\n",
    "                cur.x - 1, cur.y), Coordinate(cur.x + 1, cur.y), Coordinate(\n",
    "                    cur.x, cur.y - 1), Coordinate(cur.x, cur.y + 1)))):\n",
    "            return True\n",
    "        \n",
    "        # Cannot find a path, remove the entry added in path.append(cur)\n",
    "        del path[-1]\n",
    "        return False\n",
    "        \n",
    "    path = []\n",
    "    if not search_maze_helper(s):\n",
    "        return []   # No path between s and e.\n",
    "    \n",
    "    return path\n",
    "\n",
    "s = Coordinate(0,0)\n",
    "e = Coordinate(5,5)\n",
    "\n",
    "search_maze(example_maze, s, e)"
   ],
   "metadata": {
    "collapsed": false,
    "pycharm": {
     "name": "#%%\n",
     "is_executing": false
    }
   }
  },
  {
   "cell_type": "markdown",
   "source": [
    "The time complexity is the same as that for DFS, namely $O(|V| + |E|)$.\n",
    "\n",
    "[References](../reference/18.1.md)\n"
   ],
   "metadata": {
    "collapsed": false
   }
  }
 ],
 "metadata": {
  "kernelspec": {
   "display_name": "Python 3",
   "language": "python",
   "name": "python3"
  },
  "language_info": {
   "codemirror_mode": {
    "name": "ipython",
    "version": 2
   },
   "file_extension": ".py",
   "mimetype": "text/x-python",
   "name": "python",
   "nbconvert_exporter": "python",
   "pygments_lexer": "ipython2",
   "version": "2.7.6"
  },
  "pycharm": {
   "stem_cell": {
    "cell_type": "raw",
    "source": [],
    "metadata": {
     "collapsed": false
    }
   }
  }
 },
 "nbformat": 4,
 "nbformat_minor": 0
}