{
 "cells": [
  {
   "cell_type": "markdown",
   "metadata": {
    "collapsed": true,
    "pycharm": {
     "name": "#%% md\n"
    }
   },
   "source": [
    "# Test if a Binary Tree Satisfies the BST Property\n",
    "\n",
    "**Write a program that takes as input a binary tree and checks if the tree satisfies\n",
    "the BST property.**\n",
    "\n",
    "## Solution\n",
    "\n",
    "A direct approach, based on the definition of a BST, is to begin with the root, and \n",
    "compute the maximum key stored in the root's left subtree, and the minimum key in \n",
    "the root's right subtree.  We check that the key at the root is greater than or \n",
    "equal to the maximum from the left subtree and less than or equal to the minimum\n",
    "from the right subtree.  If both these checks pass, we recursively check the root's \n",
    "left and right subtree.  If either check fails, we return false.\n",
    "\n",
    "Computing the minimum key in a binary tree is straightforward: we take the minimum\n",
    "of the key stored at its root, the minimum key of the left subtree, and the minimum \n",
    "key of the right subtree.  The maximum key is computed similarly.  Note that the \n",
    "minimum can be in either subtree, since a general binary tree may not satisfy the \n",
    "BST property.\n",
    "\n",
    "The problem with this approach is that it will repeatedly traverse subtrees.  In the\n",
    "worst-case, when the tree is a BST and each node's left child is empty, the \n",
    "complexity is $O(n^2)$, where $n$ is the number of nodes.  The complexity can be \n",
    "improved to $O(n)$ by caching the largest and smallest keys at each node; this \n",
    "requires $O(n)$ additional storage for the cache.\n",
    "\n",
    "We now present two approaches which have $O(n)$ time complexity.\n",
    "\n",
    "The first approach is to check constraints on the values for each subtree.  The \n",
    "initial constraint comes from the root.  Every node in its left (right) subtree\n",
    "must have a key less than or equal (greater than or equal) to the key at the root.\n",
    "This idea generalizes: if all nodes in a tree must have keys in the range $[l,u]$,\n",
    "and the key at the root is $w$ (which itself must be between $[l,u]$, otherwise the\n",
    "requirement is violated at the root itself), then all keys in the left subtree must \n",
    "be in the range $[l,w]$, and all keys stored in the right subtree must be in the\n",
    "range $[w,u]$."
   ]
  },
  {
   "cell_type": "code",
   "execution_count": 23,
   "outputs": [
    {
     "name": "stdout",
     "text": [
      "example non BST bintree is a BST?: False\nexample BST is a BST?: True\n"
     ],
     "output_type": "stream"
    }
   ],
   "source": [
    "class BinaryTreeNode:\n",
    "    \n",
    "    def __init__(self, data=None, left=None, right=None):\n",
    "        self.data = data\n",
    "        self.left = left\n",
    "        self.right = right\n",
    "        \n",
    "def is_binary_tree_bst(tree, low_range=float('-inf'), high_range=float('inf')):\n",
    "    if not tree:\n",
    "        return True\n",
    "    elif not low_range <= tree.data <= high_range:\n",
    "        return False\n",
    "    return (is_binary_tree_bst(tree.left, low_range, tree.data)\n",
    "            and is_binary_tree_bst(tree.right, tree.data, high_range))\n",
    "\n",
    "example_tree = BinaryTreeNode(data=1)\n",
    "example_tree.right = BinaryTreeNode(data=2)\n",
    "example_tree.left = BinaryTreeNode(data=3)\n",
    "example_tree.right.right = BinaryTreeNode(data=4)\n",
    "example_tree.right.left = BinaryTreeNode(data=5)\n",
    "example_tree.left.left = BinaryTreeNode(data=6)\n",
    "example_tree.left.left.right = BinaryTreeNode(data=7)\n",
    "example_tree.left.left.left = BinaryTreeNode(data=8)\n",
    "\n",
    "print(\"example non BST bintree is a BST?: {0}\".format(is_binary_tree_bst(example_tree)))\n",
    "\n",
    "example_tree = BinaryTreeNode(data=19)\n",
    "example_tree.left = BinaryTreeNode(data=7)\n",
    "example_tree.left.left = BinaryTreeNode(data=3)\n",
    "example_tree.left.left.left = BinaryTreeNode(data=2)\n",
    "example_tree.left.left.right = BinaryTreeNode(data=5)\n",
    "example_tree.right = BinaryTreeNode(data=43)\n",
    "example_tree.right.left = BinaryTreeNode(data=23)\n",
    "example_tree.right.left.right = BinaryTreeNode(data=37)\n",
    "example_tree.right.left.right.left = BinaryTreeNode(data=29)\n",
    "example_tree.right.left.right.left.right = BinaryTreeNode(data=31)\n",
    "print(\"example BST is a BST?: {0}\".format(is_binary_tree_bst(example_tree)))"
   ],
   "metadata": {
    "collapsed": false,
    "pycharm": {
     "name": "#%%\n",
     "is_executing": false
    }
   }
  },
  {
   "cell_type": "markdown",
   "source": [
    "The time complexity is $O(n)$ and the additional space complexity is $O(h)$, where\n",
    "$h$ is the height of the tree.\n",
    "\n",
    "Alternatively, we can use the fact that an inorder traversal visits keys in sorted order.  \n",
    "Furthermore, if an inorder traversal of a binary tree visits keys in sorted order, then \n",
    "that binary tree must be a BST.  (This follows directly from the definition of a BST\n",
    "and the definition of an inorder walk.)  Thus we can check the BST property by \n",
    "performing an inorder traversal, recording the key stored at the last visited node.\n",
    "Each time a new node is visited, its key is compared with the key of the previously\n",
    "visited node.  If at any step in the walk, the key at the previously visited node is\n",
    "greater than the node currently being visited, we have a violation of the BST \n",
    "property.\n",
    "\n",
    "All these approaches explore the left subtree first.  Therefore, even if the BST\n",
    "property does not hold at a node which is close to the root (eg the key stored at \n",
    "the right child is less than the key stored at the root), their time complexity is\n",
    "still $O(n)$.\n",
    "\n",
    "We can search for violations of the BST property in a BFS manner, thereby reducing\n",
    "the time complexity when the property is violated at a node whose depth is small.\n",
    "\n",
    "Specifically, we use a queue, where each queue entry contains a node, as well as \n",
    "an upper and a lower bound on the keys stored at the subtree rooted at that node.\n",
    "The queue is intiialized to the root, with lower bound $-\\infty$  and upper bound\n",
    "$\\infty$.  We iteratively check the constraint on each node.  If it violates the\n",
    "constraint we stop - the BST property has been violated.  Otherwise, we add its\n",
    "children along with the corresponding constraint.\n",
    "\n",
    "IF the BST is property is violated in a subtree consisting of nodes within a \n",
    "particular depth, the violation will be discovered without visiting any modes at\n",
    "a greater depth.  This is because each time we enqeueue an entry, the lower and \n",
    "upper bounds on the node's key are the tightest posible."
   ],
   "metadata": {
    "collapsed": false
   }
  },
  {
   "cell_type": "code",
   "execution_count": 24,
   "outputs": [
    {
     "name": "stdout",
     "text": [
      "example BST is a BST?: True\n"
     ],
     "output_type": "stream"
    }
   ],
   "source": [
    "import collections\n",
    "\n",
    "def is_binary_tree_bst(tree: BinaryTreeNode) -> bool:\n",
    "    QueueEntry = collections.namedtuple('QueueEntry',\n",
    "                                        ('node', 'lower', 'upper'))\n",
    "    \n",
    "    bfs_queue = collections.deque(\n",
    "        [QueueEntry(tree, float('-inf'), float('inf'))])\n",
    "    \n",
    "    while bfs_queue:\n",
    "        front = bfs_queue.popleft()\n",
    "        if front.node:\n",
    "            if not front.lower <= front.node.data <= front.upper:\n",
    "                return False\n",
    "            bfs_queue.extend(\n",
    "                (QueueEntry(front.node.left, front.lower, front.node.data),\n",
    "                 QueueEntry(front.node.right, front.node.data, front.upper)))\n",
    "    return True\n",
    "\n",
    "print(\"example BST is a BST?: {0}\".format(is_binary_tree_bst(example_tree)))"
   ],
   "metadata": {
    "collapsed": false,
    "pycharm": {
     "name": "#%%\n",
     "is_executing": false
    }
   }
  },
  {
   "cell_type": "markdown",
   "source": [
    "The time complexity is $O(n)$, and the additional space complexity is $O(n)$.\n",
    "\n",
    "[References](../reference/14.1.md)"
   ],
   "metadata": {
    "collapsed": false
   }
  }
 ],
 "metadata": {
  "kernelspec": {
   "display_name": "Python 3",
   "language": "python",
   "name": "python3"
  },
  "language_info": {
   "codemirror_mode": {
    "name": "ipython",
    "version": 2
   },
   "file_extension": ".py",
   "mimetype": "text/x-python",
   "name": "python",
   "nbconvert_exporter": "python",
   "pygments_lexer": "ipython2",
   "version": "2.7.6"
  },
  "pycharm": {
   "stem_cell": {
    "cell_type": "raw",
    "source": [],
    "metadata": {
     "collapsed": false
    }
   }
  }
 },
 "nbformat": 4,
 "nbformat_minor": 0
}