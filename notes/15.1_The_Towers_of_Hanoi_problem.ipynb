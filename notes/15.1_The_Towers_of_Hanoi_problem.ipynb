{
 "cells": [
  {
   "cell_type": "markdown",
   "metadata": {
    "collapsed": true,
    "pycharm": {
     "name": "#%% md\n"
    }
   },
   "source": [
    "# The Towers of Hanoi Problem\n",
    "\n",
    "A peg contains rings in sorted order, with the largest rings being the lowest.  You\n",
    "are to transfer these rings to another peg, which is initially empty.\n",
    "\n",
    "You have a third peg, which is initially empty.  The only operation you can perform\n",
    "is taking a single ring from the top of one peg and placing it on top of another peg.\n",
    "You must never place a larger ring above a smaller ring.\n",
    "\n",
    "**Write a function which returns a sequence of operations that result in the \n",
    "transfer of $n$ rings from one peg to another.  Each operation should be encoded\n",
    "as a pair (`from_peg_to_peg`).**\n",
    "\n",
    "## Solution\n",
    "\n",
    "The insight to solving the problem can be gained by trying examples.  The three\n",
    "ring transfer can be achieved by moving the top two rings to the third peg, then \n",
    "moving the lowest ring (which is the largest) to the second peg, and then \n",
    "transferring the two rings on the third peg to the second peg, using the first peg\n",
    "as the intermediary.  To transfer four rings, move the top three rings to the third\n",
    "peg, then moving the lowest ring (which is the largest) to the second peg, and then\n",
    "transfer the three rings on the third peg to the second peg, using the first peg as an\n",
    "intermediary.  For both the three ring and four ring transfers, the first and third \n",
    "steps are instances of the same problem, which suggests the use of recursion."
   ]
  },
  {
   "cell_type": "code",
   "execution_count": 9,
   "outputs": [
    {
     "data": {
      "text/plain": "[[0, 2],\n [0, 1],\n [2, 1],\n [0, 2],\n [1, 0],\n [1, 2],\n [0, 2],\n [0, 1],\n [2, 1],\n [2, 0],\n [1, 0],\n [2, 1],\n [0, 2],\n [0, 1],\n [2, 1],\n [0, 2],\n [1, 0],\n [1, 2],\n [0, 2],\n [1, 0],\n [2, 1],\n [2, 0],\n [1, 0],\n [1, 2],\n [0, 2],\n [0, 1],\n [2, 1],\n [0, 2],\n [1, 0],\n [1, 2],\n [0, 2],\n [0, 1],\n [2, 1],\n [2, 0],\n [1, 0],\n [2, 1],\n [0, 2],\n [0, 1],\n [2, 1],\n [2, 0],\n [1, 0],\n [1, 2],\n [0, 2],\n [1, 0],\n [2, 1],\n [2, 0],\n [1, 0],\n [2, 1],\n [0, 2],\n [0, 1],\n [2, 1],\n [0, 2],\n [1, 0],\n [1, 2],\n [0, 2],\n [0, 1],\n [2, 1],\n [2, 0],\n [1, 0],\n [2, 1],\n [0, 2],\n [0, 1],\n [2, 1]]"
     },
     "metadata": {},
     "output_type": "execute_result",
     "execution_count": 9
    }
   ],
   "source": [
    "NUM_PEGS = 3\n",
    "\n",
    "def compute_tower_hanoi(num_rings):\n",
    "    def compute_tower_hanoi_steps(num_rings_to_move, from_peg, to_peg, use_peg):\n",
    "        if num_rings_to_move > 0:\n",
    "            compute_tower_hanoi_steps(num_rings_to_move - 1, from_peg, use_peg, \n",
    "                                      to_peg)\n",
    "            pegs[to_peg].append(pegs[from_peg].pop())\n",
    "            result.append([from_peg, to_peg])\n",
    "            compute_tower_hanoi_steps(num_rings_to_move - 1, use_peg, to_peg, \n",
    "                                      from_peg)\n",
    "            \n",
    "    # Initialize pegs\n",
    "    result = []\n",
    "    pegs = [list(reversed(range(1, num_rings + 1)))] + \\\n",
    "           [[] for _ in range(1, NUM_PEGS)]\n",
    "    compute_tower_hanoi_steps(num_rings, 0, 1, 2)\n",
    "    return result\n",
    "\n",
    "compute_tower_hanoi(6)"
   ],
   "metadata": {
    "collapsed": false,
    "pycharm": {
     "name": "#%%\n",
     "is_executing": false
    }
   }
  },
  {
   "cell_type": "markdown",
   "source": [
    "The number of moves, $T(n)$, satisfies the following recurrence: \n",
    "$T(n) = T(n - 1) + 1 + T(n - 1) = 1+ 2T(n - 1)$.  The first $T(n - 1)$ corresponds\n",
    "to the transfer of the top $n - 1$ rings from $P1 \\text{ to } P3$, and the second\n",
    "$T(n - 1)$ corresponds to the transfer from $P3 \\text{ to} P2$.  This recurrence\n",
    "solves to $T(n) = 2^n - 1$.  One way to see this is to \"unwrap\" the recurrence:\n",
    "$T(n) = 1 + 2 + 4 + ... + 2^kT(n - k)$.  Printing a single move takes $O(1)$ time,\n",
    "so the time complexity is $O(2^n)$.\n"
   ],
   "metadata": {
    "collapsed": false
   }
  }
 ],
 "metadata": {
  "kernelspec": {
   "display_name": "Python 3",
   "language": "python",
   "name": "python3"
  },
  "language_info": {
   "codemirror_mode": {
    "name": "ipython",
    "version": 2
   },
   "file_extension": ".py",
   "mimetype": "text/x-python",
   "name": "python",
   "nbconvert_exporter": "python",
   "pygments_lexer": "ipython2",
   "version": "2.7.6"
  },
  "pycharm": {
   "stem_cell": {
    "cell_type": "raw",
    "source": [],
    "metadata": {
     "collapsed": false
    }
   }
  }
 },
 "nbformat": 4,
 "nbformat_minor": 0
}