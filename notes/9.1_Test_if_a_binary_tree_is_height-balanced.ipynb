{
 "cells": [
  {
   "cell_type": "markdown",
   "metadata": {
    "collapsed": true,
    "pycharm": {
     "name": "#%% md\n"
    }
   },
   "source": [
    "# Test if a Binary Tree is Height-Balanced\n",
    "\n",
    "A binary tree is said to be heigh-balanced if for each node in the tree, the \n",
    "difference in the height of its left and right subtrees at most is one.  A\n",
    "perfect binary tree is height-balanced, as is a complete binary tree.  A \n",
    "height-balanced binary tree does not have to be perfect or complete.\n",
    "\n",
    "**Write a program that takes as input the root of a binary tree and checks whether\n",
    "the tree is height-balanced.**\n",
    "\n",
    "## Solution\n",
    "\n",
    "Here is a brute-force algorithm.  Compute the height for the tree rooted at each\n",
    "node `x` recursively.  The basic computation is to compute the height for each node\n",
    "starting from the leaves, and proceeding upwards.  For each node, we check if the\n",
    "difference in heights in a hash table, or in a new field in the nodes.  This entails\n",
    "$O(n)$ storage and $O(n)$ time, where `n` is the number of nodes in the tree.\n",
    "\n",
    "We can solve this problem using less storage by observing that we do not need to store\n",
    "the heights of all nodes at the same time.  Once we are done with a subtree, all we\n",
    "need to know is whether it is height-balanced, and if so, what its height is - we do\n",
    "node need any information about descendants of the subtree's root."
   ]
  },
  {
   "cell_type": "code",
   "execution_count": 12,
   "outputs": [
    {
     "name": "stdout",
     "text": [
      "Preorder: 1\nPreorder: 3\nPreorder: 6\nPreorder: 8\nInorder: 8\nPostorder: 8\nInorder: 6\nPreorder: 7\nInorder: 7\nPostorder: 7\nPostorder: 6\nInorder: 3\nPostorder: 3\nInorder: 1\nPreorder: 2\nPreorder: 5\nInorder: 5\nPostorder: 5\nInorder: 2\nPreorder: 4\nInorder: 4\nPostorder: 4\nPostorder: 2\nPostorder: 1\nExample tree is height balanced: False\n"
     ],
     "output_type": "stream"
    }
   ],
   "source": [
    "import collections\n",
    "\n",
    "class BinaryTreeNode:\n",
    "    \n",
    "    def __init__(self, data=None, left=None, right=None):\n",
    "        self.data = data\n",
    "        self.left = left\n",
    "        self.right = right\n",
    "    \n",
    "\n",
    "def tree_traversal(root: BinaryTreeNode) -> None:\n",
    "    if root:\n",
    "        # Preorder: Processes the root before the traversals of left and right\n",
    "        # children.\n",
    "        print('Preorder: %d' % root.data)\n",
    "        tree_traversal(root.left)\n",
    "        # Inorder: Processes the root after the traversal of left child and before\n",
    "        # the traversal of right child.\n",
    "        print('Inorder: %d' % root.data)\n",
    "        tree_traversal(root.right)\n",
    "        # Postorder: Processes the root after the traversals of left and right\n",
    "        # children.\n",
    "        print('Postorder: %d' % root.data)\n",
    "        \n",
    "def is_balanced_binary_tree(tree: BinaryTreeNode) -> bool:\n",
    "    BalancedStatusWithHeight = collections.namedtuple(\n",
    "        'BalancedStatusWithHeight', ('balanced', 'height')\n",
    "    )\n",
    "    \n",
    "    # First value of the return value indicates if tree is balanced, and if \n",
    "    # balanced the second value of the return value is the height of tree.\n",
    "    def check_balanced(tree):\n",
    "        if not tree:\n",
    "            return BalancedStatusWithHeight(True, -1)  # Base case.\n",
    "    \n",
    "        left_result = check_balanced(tree.left)\n",
    "        if not left_result.balanced:\n",
    "            # Left subtree is not balanced.\n",
    "            return BalancedStatusWithHeight(False, 0)\n",
    "        \n",
    "        right_result = check_balanced(tree.right)\n",
    "        if not right_result.balanced:\n",
    "            return BalancedStatusWithHeight(False, 0)\n",
    "        \n",
    "        is_balanced = abs(left_result.height - right_result.height) <= 1\n",
    "        height = max(left_result.height, right_result.height) + 1\n",
    "        return BalancedStatusWithHeight(is_balanced, height)\n",
    "    return check_balanced(tree).balanced\n",
    "\n",
    "example_tree = BinaryTreeNode(data=1)\n",
    "example_tree.right = BinaryTreeNode(data=2)\n",
    "example_tree.left = BinaryTreeNode(data=3)\n",
    "example_tree.right.right = BinaryTreeNode(data=4)\n",
    "example_tree.right.left = BinaryTreeNode(data=5)\n",
    "example_tree.left.left = BinaryTreeNode(data=6)\n",
    "example_tree.left.left.right = BinaryTreeNode(data=7)\n",
    "example_tree.left.left.left = BinaryTreeNode(data=8)\n",
    "\n",
    "tree_traversal(example_tree)\n",
    "\n",
    "result = is_balanced_binary_tree(example_tree)\n",
    "\n",
    "print(\"Example tree is height balanced: {0}\".format(result))"
   ],
   "metadata": {
    "collapsed": false,
    "pycharm": {
     "name": "#%%\n",
     "is_executing": false
    }
   }
  },
  {
   "cell_type": "markdown",
   "source": [
    "The program implements a postoder traversal with some calls possibly being eliminated\n",
    "because of early terminations.  Specifically, if any left subtree is not \n",
    "height-balanced we do not need to visit the corresponding right subtree.\n",
    "The function call stack corresponds to a sequence of calls from the root through\n",
    "the unique path to the current node, and the stack height is therefore bounded by\n",
    "the height of the tree, leading to an $O(h)$ space bound.  The time complexity\n",
    "is the same as that for a postorder traversal, namely $O(n)$."
   ],
   "metadata": {
    "collapsed": false
   }
  }
 ],
 "metadata": {
  "kernelspec": {
   "display_name": "Python 3",
   "language": "python",
   "name": "python3"
  },
  "language_info": {
   "codemirror_mode": {
    "name": "ipython",
    "version": 2
   },
   "file_extension": ".py",
   "mimetype": "text/x-python",
   "name": "python",
   "nbconvert_exporter": "python",
   "pygments_lexer": "ipython2",
   "version": "2.7.6"
  },
  "pycharm": {
   "stem_cell": {
    "cell_type": "raw",
    "source": [],
    "metadata": {
     "collapsed": false
    }
   }
  }
 },
 "nbformat": 4,
 "nbformat_minor": 0
}