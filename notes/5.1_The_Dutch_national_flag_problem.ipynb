{
 "cells": [
  {
   "cell_type": "markdown",
   "source": [
    "# The Dutch National Flag Problem\n",
    "\n",
    "The quicksort algorithm for sorting arrays proceeds recursively - it selects an \n",
    "element (the \"pivot\"), reorders the array to make all the elements less than or\n",
    "equal to the pivot appear first, followed by all the elements greater than the pivot.\n",
    "The two subarrays are then sorted recursively.\n",
    "\n",
    "Implemented naively, quicksort has large run times and deep function call stacks on\n",
    "arrays with many duplicates because the subarrays may differ greatly in size.  One\n",
    "solution is to reorder the array so that all elements less than the pivot appear\n",
    "first, followed by elements equal to the pivot, followed by elements greater than\n",
    "the pivot.  This is known as Dutch National Flag partitioning, because the Dutch\n",
    "national flag consists of three horizontal bands, each in a different color.\n",
    "\n",
    "For example, suppose `A = [0,1,2,0,2,1,1]`, and the pivot index is `3`.  Then \n",
    "`A[3] = 0`, so `[0,0,1,2,2,1,1]` is a valid partitioning.  For the same array, if\n",
    "the pivot index is `2`, then `A[2] = 2`, so the arrays `[0,1,0,1,1,2,2]` as wells as\n",
    "`[0,0,1,1,1,2,2]` are valid partitionings.\n",
    "\n",
    "**Write a program that takes an array `A` and an index `i` into `A`, and\n",
    "rearranges the elements such that all elements less than `A[i]` (the \"pivot\")\n",
    " appear first, followed by elements equal to the pivot, followed by elements\n",
    " greater than the pivot.**\n",
    " \n",
    " ## Brute Force Method\n",
    " \n",
    " The Problem is trivial to solve with `O(n)` additional space, where `n` is the\n",
    " length of `A`.  We form three lists, namely, elements less than the pivot, elements\n",
    " equal to the pivot, and elements greater than the pivot.  Consequently, we write \n",
    " these values into `A`.  The time complexity is `O(n)`.\n",
    " \n",
    " We can avoid using `O(n)` additional space at the cost of increased time complexity\n",
    " as follows.  In the first stage, we iterate through `A` starting from index 0, then\n",
    " index 1, etc.  In each iteration, we seek an element smaller than the pivot - as\n",
    " soon as we find it, we move it to the subarray of smaller elements via an exchange.\n",
    " This moves all the elements less than the pivot to the start of the array.  The \n",
    " second stage is similar to the first one, the difference being that we move elements\n",
    " greater than the pivot to the end of the array: \n",
    " "
   ],
   "metadata": {
    "collapsed": false
   }
  },
  {
   "cell_type": "code",
   "execution_count": 17,
   "outputs": [
    {
     "name": "stdout",
     "text": [
      "Unsorted Array:\n[0, 1, 0, 2, 0, 1, 1, 2, 2]\nSorting the Array using the median value (WHITE):\n[0, 0, 0, 1, 1, 1, 2, 2, 2]\n"
     ],
     "output_type": "stream"
    }
   ],
   "source": [
    "RED, WHITE, BLUE = range(3)\n",
    "\n",
    "unsorted_array = [0,1,0,2,0,1,1,2,2]\n",
    "print(\"Unsorted Array:\")\n",
    "print(unsorted_array)\n",
    "\n",
    "def dutch_flag_partition(pivot_index, A):\n",
    "    pivot = A[pivot_index]\n",
    "    # First pass: group elements smaller than the pivot\n",
    "    for i in range(len(A)):\n",
    "        # Look for a smaller element.\n",
    "        for j in range(i + 1, len(A)):\n",
    "            if A[j] < pivot:\n",
    "                A[i], A[j] = A[j], A[i]\n",
    "                break\n",
    "    # Second pass: group elements larger than the pivot.\n",
    "    for i in reversed(range(len(A))):\n",
    "        if A[i] < pivot:\n",
    "            break\n",
    "        # Look for a larger element.  Stop when we reach an element less than\n",
    "        # pivot, since first pass has moved then to the start of A.\n",
    "        for j in reversed(range(i)):\n",
    "            if A[j] > pivot:\n",
    "                A[i], A[j] = A[j], A[i]\n",
    "                break\n",
    "                \n",
    "dutch_flag_partition(WHITE, unsorted_array)\n",
    "print(\"Sorting the Array using the median value (WHITE):\")\n",
    "print(unsorted_array)"
   ],
   "metadata": {
    "collapsed": false,
    "pycharm": {
     "name": "#%%\n",
     "is_executing": false
    }
   }
  },
  {
   "cell_type": "markdown",
   "source": [
    "The additional space complexity is now `O(1)`, but the time complexity is\n",
    "*O(n<sup>2</sup>)*, eg, if `i = n / 2` and all elements before `i` are greater\n",
    "than `A[i]`, and all elements after `i` are less than `A[i]`.  Intuitively,\n",
    "this approach has bad time complexity because in the first pass when searching\n",
    "for each additional element smaller than the pivot we start from the beginning.\n",
    "However, there is no reason to start from so far back - we can begin from the last\n",
    "location we advanced to.  Same goes for the second pass.\n",
    "\n",
    "## Improving Performance\n",
    "\n",
    "To improve time complexity, we make a single pass and move all the elements less\n",
    "than the pivot to the beginning.  In the second pass we move the larger elements\n",
    "to the end.  It is easy to perform each pass in a single iteration, moving\n",
    "out-of-place elements as soon as they are discovered."
   ],
   "metadata": {
    "collapsed": false
   }
  },
  {
   "cell_type": "code",
   "execution_count": 22,
   "outputs": [
    {
     "name": "stdout",
     "text": [
      "Unsorted Array:\n[0, 1, 0, 2, 0, 1, 1, 2, 2]\nSorting the Array using the median value (WHITE):\n[0, 0, 0, 1, 1, 1, 2, 2, 2]\n"
     ],
     "output_type": "stream"
    }
   ],
   "source": [
    "unsorted_array = [0,1,0,2,0,1,1,2,2]\n",
    "print(\"Unsorted Array:\")\n",
    "print(unsorted_array)\n",
    "\n",
    "def dutch_flag_partition(pivot_index, A):\n",
    "    pivot = A[pivot_index]\n",
    "    # First pass: group elements smaller than the pivot.\n",
    "    smaller = 0\n",
    "    for i in range(len(A)):\n",
    "        if A[i] < pivot:\n",
    "            A[i], A[smaller] = A[smaller], A[i]\n",
    "            smaller += 1\n",
    "    # Second pass: group elements larger than the pivot.\n",
    "    larger = len(A) - 1\n",
    "    for i in reversed(range(len(A))):\n",
    "        if A[i] < pivot:\n",
    "            break\n",
    "        elif A[i] > pivot:\n",
    "            A[i], A[larger] = A[larger], A[i]\n",
    "            larger -= 1\n",
    "\n",
    "dutch_flag_partition(WHITE, unsorted_array)\n",
    "print(\"Sorting the Array using the median value (WHITE):\")\n",
    "print(unsorted_array)"
   ],
   "metadata": {
    "collapsed": false,
    "pycharm": {
     "name": "#%%\n",
     "is_executing": false
    }
   }
  },
  {
   "cell_type": "markdown",
   "source": [
    "The time complexity is `O(n)` and the space complexity is `O(1)`.\n",
    "\n",
    "## Sorting in a Single Pass\n",
    "\n",
    "This algorithm is similar to the one above, but it performs classification\n",
    "into elements less than, equal to, and greater than the pivot in a single pass.\n",
    "This reduces runtime, at the cost of a trickier implementation.  We do this by\n",
    "maintaining four subarrays: *bottom, middle, unclassified, and top*.  Initially,\n",
    "all elements are unclassified.  We iterate through elements in unclassified, and \n",
    "move elements into on of bottom, middle and top groups according to the relative\n",
    "order between incoming unclassified elements and the pivot.\n",
    "\n",
    "As a concrete example, suppose the array is currently `A = [-3,0,-1,1,1,?,?,?,4,2]`,\n",
    "where the pivot is 1 and ? denotes unclassified elements.  There are three\n",
    "possibilities for the first unclassified element, `A[5]`.\n",
    " \n",
    "- `A[5]` is less than the pivot, eg `A[5] = -5`.  We exchange it with the first 1,\n",
    "   ie the new array is `[-3,0,-1,-5,1,1,?,?,4,2]`.\n",
    "- `A[5]` is equal to the pivot, ie `A[5] = 1`.  We do not need to move it, we just\n",
    "   advance to the next unclassified element, ie the array is \n",
    "   `[-3,0,-1,1,1,1,?,?,4,2]`.\n",
    "- `A[5]` is greater than the pivot, eg `A[5] = 3`.  We exchange it with the last\n",
    "   unclassified element, ie the new array is `[-3,0,-1,1,1,?,>,3,4,2]`.\n",
    "   "
   ],
   "metadata": {
    "collapsed": false
   }
  },
  {
   "cell_type": "code",
   "execution_count": 23,
   "outputs": [
    {
     "name": "stdout",
     "text": [
      "Unsorted Array:\n[0, 1, 0, 2, 0, 1, 1, 2, 2]\nSorting the Array using the median value (WHITE):\n[0, 0, 0, 1, 1, 1, 2, 2, 2]\n"
     ],
     "output_type": "stream"
    }
   ],
   "source": [
    "unsorted_array = [0,1,0,2,0,1,1,2,2]\n",
    "print(\"Unsorted Array:\")\n",
    "print(unsorted_array)\n",
    "\n",
    "def dutch_flag_partition(pivot_index, A):\n",
    "    pivot = A[pivot_index]\n",
    "    \"\"\"\n",
    "    Keep the Following INvarants During Partitioning:\n",
    "    bottom group: A[:smaller].\n",
    "    middle group: A[smaller:equal].\n",
    "    unclassified group: A[equal:larger].\n",
    "    top group: A[larger:].\n",
    "    \"\"\"\n",
    "    smaller, equal, larger = 0, 0, len(A)\n",
    "    # Keep iterating as long as there is an unclassified element.\n",
    "    while equal < larger:\n",
    "        # A[equal] is the incoming unclassified element.\n",
    "        if A[equal] < pivot:\n",
    "            A[smaller], A[equal] = A[equal], A[smaller]\n",
    "            smaller, equal, = smaller + 1, equal + 1\n",
    "        elif A[equal] == pivot:\n",
    "            equal += 1\n",
    "        else:   # A[equal] > pivot.\n",
    "            larger -= 1\n",
    "            A[equal], A[larger] = A[larger], A[equal]\n",
    "\n",
    "dutch_flag_partition(WHITE, unsorted_array)\n",
    "print(\"Sorting the Array using the median value (WHITE):\")\n",
    "print(unsorted_array)"
   ],
   "metadata": {
    "collapsed": false,
    "pycharm": {
     "name": "#%%\n",
     "is_executing": false
    }
   }
  },
  {
   "cell_type": "markdown",
   "source": [
    "Each iteration decreases the size of unclassified by 1, and the time spent within\n",
    "each iteration is `O(1)`, implying the time complexity is `O(n)`.  The space\n",
    "complexity is `O(1)`.\n"
   ],
   "metadata": {
    "collapsed": false
   }
  }
 ],
 "metadata": {
  "kernelspec": {
   "display_name": "Python 3",
   "language": "python",
   "name": "python3"
  },
  "language_info": {
   "codemirror_mode": {
    "name": "ipython",
    "version": 2
   },
   "file_extension": ".py",
   "mimetype": "text/x-python",
   "name": "python",
   "nbconvert_exporter": "python",
   "pygments_lexer": "ipython2",
   "version": "2.7.6"
  },
  "pycharm": {
   "stem_cell": {
    "cell_type": "raw",
    "source": [],
    "metadata": {
     "collapsed": false
    }
   }
  }
 },
 "nbformat": 4,
 "nbformat_minor": 0
}