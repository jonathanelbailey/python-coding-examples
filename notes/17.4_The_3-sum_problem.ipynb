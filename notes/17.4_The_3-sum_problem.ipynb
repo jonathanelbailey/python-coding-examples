{
 "cells": [
  {
   "cell_type": "markdown",
   "metadata": {
    "collapsed": true,
    "pycharm": {
     "name": "#%% md\n"
    }
   },
   "source": [
    "# The 3-Sum Problem\n",
    "\n",
    "**Design an algorithm that takes as input an array and a number and determines if \n",
    "there are three entries in the array (not necessarily distinct) which adds up to the \n",
    "specified number.**  \n",
    "\n",
    "For example, if the array is `[11, 2, 5, 7, 3]` then there are \n",
    "three entries in the array which add up to 21 (3, 7, 11, and 5, 5, 11).  (Note that\n",
    "we can use 5 twice, since the problem statement said we can use the same entry more\n",
    "than once.)  However, no three entries add up to 22.\n",
    "\n",
    "## Solution\n",
    "\n",
    "The brute force algorithm is to consider all possible triples, eg, by three nested\n",
    "for-loops iterating over all entries.  The time complexity is $O(n^3)$, where $n$ is\n",
    "the length of the array, and the space complexity is $O(1)$.\n",
    "\n",
    "Let $A$ be the input array and $t$ the specified number.  We can improve the time \n",
    "complexity to $O(n^2)$ by storing the array entries in a hash table first.  Then we\n",
    "iterate over pairs of entries, and for each \n",
    "$A[i] + A[j]$ we look for $t - (A[i] + A[j])$ in the hash table.  The space \n",
    "complexity is now $O(n)$.\n",
    "\n",
    "We can avoid the additional space complexity by first sorting the input.  \n",
    "Specifically, sort $A$ and for each $A[i]$, search for indices $j$ and $k$ such that\n",
    "$A[j] + A[k] = t - A[i]$.  We can do each such search in $O(n \\log n)$ time by\n",
    "iterating over $A[j]$ values and doing binary search for $A[k]$.\n",
    "\n",
    "We can improve the time complexity to $O(n)$ by starting with $A[0] + A[n - 1]$.\n",
    "If this equals $t - A[i]$, we're done.  Otherwise, if $A[o] + A[n - 1] < t - A[i]$,\n",
    "we move to $A[1] + A[n - 1]$ - there is no chance of $A[0]$ pairing with any other \n",
    "entry to get $t - A[i]$ (since $A[n - 1]$  is the largest value in $A$).  Similarly,\n",
    "if $A[0] + A[n - 1] > t - A[i]$, we  move to $A[1] + A[n - 2]$.  This approach\n",
    "eliminates an entry in each iteration, and spends $O(1)$ time in each iteration, \n",
    " yielding an $O(n)$ time bound to find $A[j]$ and $A[k]$ such that $A[j] + A[k] = t - A[i]$,\n",
    " if such entries exist.  The invariant is that if two elements which sum to the \n",
    " desired value exist, they must lie within the subarray currently under \n",
    " consideration.\n",
    " \n",
    " For the given example, after sorting the array is `[2,3,5,7,11]`.  For entry \n",
    " $A[0] = 2$, to see if there are $A[j]$ and $A[k]$ such that $A[0] + A[j] + A[k] = 21$, \n",
    " we search for two entries that add up to $21 - 2 = 19$."
   ]
  },
  {
   "cell_type": "code",
   "execution_count": 1,
   "outputs": [
    {
     "data": {
      "text/plain": "True"
     },
     "metadata": {},
     "output_type": "execute_result",
     "execution_count": 1
    }
   ],
   "source": [
    "def has_two_sum(A, t: int) -> bool:\n",
    "    i, j = 0, len(A) - 1\n",
    "    \n",
    "    while i <= j:\n",
    "        if A[i] + A[j] == t:\n",
    "            return True\n",
    "        elif A[i] + A[j] < t:\n",
    "            i += 1\n",
    "        else:   # A[i] + A[j] > t.\n",
    "            j -= 1\n",
    "    return False\n",
    "\n",
    "def has_three_sum(A, t: int) -> bool:\n",
    "    A.sort()\n",
    "    # Finds if the sum of two numbers in A equals to t - a.\n",
    "    return any(has_two_sum(A, t - a) for a in A)\n",
    "\n",
    "list_of_numbers = [11, 3, 5, 7, 2]\n",
    "has_three_sum(list_of_numbers, 21)"
   ],
   "metadata": {
    "collapsed": false,
    "pycharm": {
     "name": "#%%\n",
     "is_executing": false
    }
   }
  },
  {
   "cell_type": "markdown",
   "source": [
    "The additional space needed is $O(1)$, and the time complexity is the sum of the \n",
    "time taken to sort, $O(n \\log n)$, and then to run the $O(n)$ algorithm to find a \n",
    "pair in a sorted array that sums to a specified value, which is $O(n^2) overall.\n"
   ],
   "metadata": {
    "collapsed": false
   }
  }
 ],
 "metadata": {
  "kernelspec": {
   "display_name": "Python 3",
   "language": "python",
   "name": "python3"
  },
  "language_info": {
   "codemirror_mode": {
    "name": "ipython",
    "version": 2
   },
   "file_extension": ".py",
   "mimetype": "text/x-python",
   "name": "python",
   "nbconvert_exporter": "python",
   "pygments_lexer": "ipython2",
   "version": "2.7.6"
  },
  "pycharm": {
   "stem_cell": {
    "cell_type": "raw",
    "source": [],
    "metadata": {
     "collapsed": false
    }
   }
  }
 },
 "nbformat": 4,
 "nbformat_minor": 0
}