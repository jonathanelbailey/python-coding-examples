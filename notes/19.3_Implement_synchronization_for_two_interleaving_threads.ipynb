{
 "cells": [
  {
   "cell_type": "markdown",
   "metadata": {
    "collapsed": true,
    "pycharm": {
     "name": "#%% md\n"
    }
   },
   "source": [
    "# Implement Synchronization for Two Interleaving Threads\n",
    "\n",
    "**Thread $t1$ prints odd numbers from 1 to 100; Thread $t2$ prints even numbers from\n",
    "1 to 100.  Write code in which the two threads need to notify each other when they\n",
    "are done.**\n",
    "\n",
    "## Solution\n",
    "\n",
    "A brute-force solution is to use a lock which is repeatedly captured by the threads.\n",
    "A single variable, protected by the lock, indicates who went last.  The drawback of\n",
    "this approach is that it employs the busy waiting antipattern: processor time that \n",
    "could be used to execute a different task is instead wasted on useless activity.\n",
    "\n",
    "Below we represent a solution based on the same idea, but one that avoids busy \n",
    "locking by using Python condition variables."
   ]
  },
  {
   "cell_type": "code",
   "execution_count": 8,
   "outputs": [
    {
     "name": "stdout",
     "text": [
      "1\n2",
      "\n3\n4\n5\n6\n7\n8\n9\n10\n11\n12\n13\n14\n15\n16\n17\n18\n19\n20\n21\n22\n23\n24\n25\n26\n27\n28\n29\n30\n31\n32\n33\n34\n35\n36\n37\n38\n39\n40\n41\n42\n43\n44\n45\n46\n47\n48\n49\n50\n51\n52\n53\n54\n55\n56\n57\n58\n59\n60\n61\n62\n63\n64\n65\n66\n67\n68\n69\n70\n71\n72\n73\n74\n75\n76\n77\n78\n79\n80\n81\n82\n83\n84\n85\n86\n87\n88\n89\n90\n91\n92\n93\n94\n95\n96\n"
     ],
     "output_type": "stream"
    }
   ],
   "source": [
    "import threading\n",
    "\n",
    "class OddEvenMonitor(threading.Condition):\n",
    "    \n",
    "    ODD_TURN = True\n",
    "    EVEN_TURN = False\n",
    "    \n",
    "    def __init__(self):\n",
    "        super().__init__()\n",
    "        self.turn = self.ODD_TURN\n",
    "        \n",
    "    def wait_turn(self, old_turn):\n",
    "        with self:\n",
    "            while self.turn != old_turn:\n",
    "                self.wait()\n",
    "    \n",
    "    def toggle_turn(self):\n",
    "        with self:\n",
    "            self.turn ^= True\n",
    "            self.notify()\n",
    "            \n",
    "class OddThread(threading.Thread):\n",
    "    def __init__(self, monitor):\n",
    "        super().__init__()\n",
    "        self.monitor = monitor\n",
    "\n",
    "    def run(self):\n",
    "        for i in range(1, 101, 2):\n",
    "            self.monitor.wait_turn(OddEvenMonitor.ODD_TURN)\n",
    "            print(i)\n",
    "            self.monitor.toggle_turn()\n",
    "\n",
    "class EvenThread(threading.Thread):\n",
    "    def __init__(self, monitor):\n",
    "        super().__init__()\n",
    "        self.monitor = monitor\n",
    "    \n",
    "    def run(self):\n",
    "        for i in range(2, 101, 2):\n",
    "            self.monitor.wait_turn(OddEvenMonitor.EVEN_TURN)\n",
    "            print(i)\n",
    "            self.monitor.toggle_turn()\n",
    "\n",
    "# Initialize OddEvenMonitor Class to keep a record of updates\n",
    "monitor = OddEvenMonitor()\n",
    "# Initialize Odd and Even threads for the work.\n",
    "t_1, t_2 = OddThread(monitor), EvenThread(monitor)\n",
    "t_1.start()\n",
    "t_2.start()"
   ],
   "metadata": {
    "collapsed": false,
    "pycharm": {
     "name": "#%%\n",
     "is_executing": false
    }
   }
  },
  {
   "cell_type": "markdown",
   "source": [
    "[References](../reference/19.3.md)\n"
   ],
   "metadata": {
    "collapsed": false
   }
  }
 ],
 "metadata": {
  "kernelspec": {
   "display_name": "Python 3",
   "language": "python",
   "name": "python3"
  },
  "language_info": {
   "codemirror_mode": {
    "name": "ipython",
    "version": 2
   },
   "file_extension": ".py",
   "mimetype": "text/x-python",
   "name": "python",
   "nbconvert_exporter": "python",
   "pygments_lexer": "ipython2",
   "version": "2.7.6"
  },
  "pycharm": {
   "stem_cell": {
    "cell_type": "raw",
    "source": [],
    "metadata": {
     "collapsed": false
    }
   }
  }
 },
 "nbformat": 4,
 "nbformat_minor": 0
}