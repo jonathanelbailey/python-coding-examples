{
 "cells": [
  {
   "cell_type": "markdown",
   "metadata": {
    "collapsed": true,
    "pycharm": {
     "name": "#%% md\n"
    }
   },
   "source": [
    "# Compute the Intersection of Two Sorted Arrays\n",
    "\n",
    "A natural implementation for a search engine is to retrieve documents that match\n",
    "the set of words in a query by maintaining an inverted index.  Each page is assigned\n",
    "an integer identifier, its *document-ID*.  An inverted index is a mapping that takes \n",
    "a word $w$ and returns a sorted array of page-ids which contain $w$ - the sort order\n",
    "could be, for example, the page rank in descending order.  When a query contains\n",
    "multiple words, the search engine finds the sorted array for each word and then\n",
    "computes the intersection of these arrays - these are the pages containing all the \n",
    "words in the query.  The most computationally intensive step of doing this is \n",
    "finding the intersection of the sorted arrays.\n",
    "\n",
    "**Write a program which takes as input two sorted arrays, and returns a new array\n",
    "containing elements that are present in both of the input arrays.  The input arrays\n",
    "may have duplicate entries, but the returned array should be free of duplicates.  \n",
    "For example, the input is `[2,3,3,5,5,6,7,7,8,12]` and `[5,5,6,8,8,9,10,10]`, your\n",
    "output should be `[5,6,8]`.**\n",
    "\n",
    "## Brute-Force Solution\n",
    "\n",
    "The brute-force algorithm is a \"loop join\", ie traversing through all the elements\n",
    "of one array and comparing them to the elements of the other array.  Let $m$ and\n",
    "$n$ be the lengths of the two input arrays: "
   ]
  },
  {
   "cell_type": "code",
   "execution_count": 2,
   "outputs": [
    {
     "data": {
      "text/plain": "[5, 6, 8]"
     },
     "metadata": {},
     "output_type": "execute_result",
     "execution_count": 2
    }
   ],
   "source": [
    "def intersect_two_sorted_arrays(A, B):\n",
    "    return [a for i, a in enumerate(A) if (i == 0 or a != A[i-1]) and a in B]\n",
    "\n",
    "list1 = [2,3,3,5,5,6,7,7,8,12]\n",
    "list2 = [5,5,6,8,8,9,10,10]\n",
    "\n",
    "intersect_two_sorted_arrays(list1, list2)"
   ],
   "metadata": {
    "collapsed": false,
    "pycharm": {
     "name": "#%%\n",
     "is_executing": false
    }
   }
  },
  {
   "cell_type": "markdown",
   "source": [
    "The brute-force algorithm has $O(mn)$ time complexity.\n",
    "\n",
    "Since both the arrays are sorted, we can make some optimizations.  First, we can\n",
    "iterate through the first array and use binary search in array to test if the \n",
    "element is present in the second array:"
   ],
   "metadata": {
    "collapsed": false
   }
  },
  {
   "cell_type": "code",
   "source": [
    "import bisect\n",
    "\n",
    "def intersect_two_sorted_arrays(A, B):\n",
    "    def is_present(k):\n",
    "        i = bisect.bisect_left(B, k)\n",
    "        return i < len(B) and B[i] == k\n",
    "    \n",
    "    return [a for i, a in enumerate(A) if (i == 0 or a != A[i - 1]) and is_present(a)]\n",
    "\n",
    "intersect_two_sorted_arrays(list1, list2)"
   ],
   "metadata": {
    "collapsed": false,
    "pycharm": {
     "name": "#%% \n",
     "is_executing": false
    }
   },
   "execution_count": 3,
   "outputs": [
    {
     "data": {
      "text/plain": "[5, 6, 8]"
     },
     "metadata": {},
     "output_type": "execute_result",
     "execution_count": 3
    }
   ]
  },
  {
   "cell_type": "markdown",
   "source": [
    "The time complexity is $O(m \\log n)$, where $m$ is the length of the array being\n",
    "iterated over.  We can further improve our run time by choosing the shorter array\n",
    "for the outer loop since if $n$ is much smaller than $m$, then $n\\log(m)$ is much \n",
    "smaller than $m \\log(n)$.\n",
    "\n",
    "This is the best solution if one set is much smaller than the other.  However, it is\n",
    "not the best when the array lengths are similar because we are not exploiting the\n",
    "fact that both arrays are sorted.  We can achieve linear runtime by simultaneously\n",
    "advancing through the two input arrays in increasing order.  At each iteration, \n",
    "if the array elements differ, the smaller one can be eliminated.  If they are equal,\n",
    "we add that value to the intersection and advance both.  (We handle duplicates by\n",
    "comparing the current element with the previous one.)  For example, if the arrays are\n",
    "`A = [2,3,3,5,7,11]` and `B = [3,3,7,15,31]`, then when know by inspecting the first\n",
    "element of each that 2 cannot belong to the intersection, so we advance to the second\n",
    "element of `A`.  Now we have a common element, 3, which we add to the result, and\n",
    "then we advance in both arrays.  Now we are at 3 in both arrays, but we know 3 has\n",
    "already been added to the result since the previous element in `A` is also 3.  We\n",
    "advance in both again without adding to the intersection.  Comparing 5 to 7, we can \n",
    "eliminate 5 and advance to the fourth element in `A`, which is 7, and equal to the\n",
    "element that `B`'s iterator holds, so it is added to the result.  We then eleminate\n",
    "11, and since no elements remain in `A`, we return `[3,7]`:"
   ],
   "metadata": {
    "collapsed": false
   }
  },
  {
   "cell_type": "code",
   "execution_count": 6,
   "outputs": [
    {
     "data": {
      "text/plain": "[3, 7]"
     },
     "metadata": {},
     "output_type": "execute_result",
     "execution_count": 6
    }
   ],
   "source": [
    "def intersect_two_sorted_arrays(A, B):\n",
    "    i, j, intersection_A_B = 0, 0, []\n",
    "    while i < len(A) and j < len(B):\n",
    "        if A[i] == B[j]:\n",
    "            if i == 0 or A[i] != A[i - 1]:\n",
    "                intersection_A_B.append(A[i])\n",
    "            i, j = i + 1, j + 1\n",
    "        elif A[i] < B[j]:\n",
    "            i += 1\n",
    "        else:   # A[i] > B[j].\n",
    "            j += 1\n",
    "    return intersection_A_B\n",
    "\n",
    "list3 = [2,3,3,5,7,11]\n",
    "list4 = [3,3,7,15,31]\n",
    "\n",
    "intersect_two_sorted_arrays(list3, list4)"
   ],
   "metadata": {
    "collapsed": false,
    "pycharm": {
     "name": "#%%\n",
     "is_executing": false
    }
   }
  },
  {
   "cell_type": "markdown",
   "source": [
    "Since we spend $O(1)$ time per input array  element, the time complexity for the \n",
    "entire algorithm is $O(m + n)$.\n",
    "\n",
    "[References](../reference/13.1.md)\n"
   ],
   "metadata": {
    "collapsed": false
   }
  }
 ],
 "metadata": {
  "kernelspec": {
   "display_name": "Python 3",
   "language": "python",
   "name": "python3"
  },
  "language_info": {
   "codemirror_mode": {
    "name": "ipython",
    "version": 2
   },
   "file_extension": ".py",
   "mimetype": "text/x-python",
   "name": "python",
   "nbconvert_exporter": "python",
   "pygments_lexer": "ipython2",
   "version": "2.7.6"
  },
  "pycharm": {
   "stem_cell": {
    "cell_type": "raw",
    "source": [],
    "metadata": {
     "collapsed": false
    }
   }
  }
 },
 "nbformat": 4,
 "nbformat_minor": 0
}