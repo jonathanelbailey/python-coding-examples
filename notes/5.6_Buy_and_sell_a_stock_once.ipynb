{
 "cells": [
  {
   "cell_type": "markdown",
   "metadata": {
    "collapsed": true,
    "pycharm": {
     "name": "#%% md\n"
    }
   },
   "source": [
    "# Buy and Sell a Stock Once\n",
    "\n",
    "This problem is concerned with the problem of optimally buying and selling a stock\n",
    "once.  As an example, consider the following sequence of stock prices:\n",
    "`[310, 315, 275, 295, 260, 270, 290, 230, 255, 250]`.  The maximum profit that can\n",
    "be made with one buy and one sell is 30 - buy at 260 and sell at 290.  Note that 260\n",
    "is not the lowest price, nor 290 the highest price.\n",
    "\n",
    "**Write a program that takes an array denoting the daily stock price, and returns\n",
    "the maximum profit that could be made by buying and the selling one share of that\n",
    "stock.  There is no need to buy if no profit is possible.**\n",
    "\n",
    "# Solution\n",
    "\n",
    "We can show how to compute the maximum profit by computing the difference of the\n",
    "current entry with the minimum value seen so far as we iterate through the array:"
   ]
  },
  {
   "cell_type": "code",
   "execution_count": 4,
   "outputs": [
    {
     "name": "stdout",
     "text": [
      "Stock prices:\n[310, 315, 275, 295, 260, 270, 290, 230, 255, 250]\nMaximum profit 30\n"
     ],
     "output_type": "stream"
    }
   ],
   "source": [
    "stock_prices = [310, 315, 275, 295, 260, 270, 290, 230, 255, 250]\n",
    "\n",
    "print(\"Stock prices:\")\n",
    "print(stock_prices)\n",
    "\n",
    "def buy_and_sell_stock_once(prices):\n",
    "    min_price_so_far, max_profit = float('inf'), 0.0\n",
    "    for price in prices:\n",
    "        max_profit_sell_today = price - min_price_so_far\n",
    "        max_profit = max(max_profit, max_profit_sell_today)\n",
    "        min_price_so_far = min(min_price_so_far, price)\n",
    "    return max_profit\n",
    "\n",
    "max_profit_result = buy_and_sell_stock_once(stock_prices)\n",
    "print(\"Maximum profit {0}\".format(max_profit_result))"
   ],
   "metadata": {
    "collapsed": false,
    "pycharm": {
     "name": "#%%\n",
     "is_executing": false
    }
   }
  },
  {
   "cell_type": "markdown",
   "source": [
    "The time complexity is `O(n)` and the space complexity is `O(1)`, where `n` is the\n",
    "length of the array.\n",
    "\n",
    "[References](../reference/5.6.md)\n"
   ],
   "metadata": {
    "collapsed": false
   }
  }
 ],
 "metadata": {
  "kernelspec": {
   "display_name": "Python 3",
   "language": "python",
   "name": "python3"
  },
  "language_info": {
   "codemirror_mode": {
    "name": "ipython",
    "version": 2
   },
   "file_extension": ".py",
   "mimetype": "text/x-python",
   "name": "python",
   "nbconvert_exporter": "python",
   "pygments_lexer": "ipython2",
   "version": "2.7.6"
  },
  "pycharm": {
   "stem_cell": {
    "cell_type": "raw",
    "source": [],
    "metadata": {
     "collapsed": false
    }
   }
  }
 },
 "nbformat": 4,
 "nbformat_minor": 0
}