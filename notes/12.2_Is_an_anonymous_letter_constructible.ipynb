{
 "cells": [
  {
   "cell_type": "markdown",
   "metadata": {
    "collapsed": true,
    "pycharm": {
     "name": "#%% md\n"
    }
   },
   "source": [
    "# Is an Anonymous Letter Constructible?\n",
    "\n",
    "**Write a program which takes text for an anonymous letter and text for a magazine\n",
    "and determines if it is possible to write the anonymous letter using the magazine.\n",
    "The anonymous letter can be written using the magazine if for each character in\n",
    "the anonymous letter, the number of times it appears in the anonymous letter is no\n",
    "more than the number of times it appears in the magazine.**\n",
    "\n",
    "## Solution\n",
    "\n",
    "A brute force approach is to count for each character in the character set the\n",
    "number of times it appears in the letter and in the magazine.  If any character\n",
    "occurs more often in the letter than the magazine we return `False`, otherwise\n",
    "we return `True`.  This approach is potentially slow because it iterates over\n",
    "all characters, including those that do not occur in the letter or magazine.  It\n",
    "also makes multiple passes over both the letter and the magazine - as many passes\n",
    "as there are characters in the set.\n",
    "\n",
    "A better approach is to make a single pass over the letter, storing the character \n",
    "counts for the letter in a single hash table - keys are characters, and values are\n",
    "the number of times that character appears.  Next, we make a pass over the magazine.\n",
    "When processing a character `c`, if `c` appears in the hash table, we reuce its\n",
    "count by 1; we remove it from the hash when its count goes to zero.  If the hash\n",
    "becomes empty, we return `True`.  If we reach the end of the letter and the hash is\n",
    "nonempty, we return false - each of the characters remaining in the hash occurs more\n",
    "times in the letter than the magazine."
   ]
  },
  {
   "cell_type": "code",
   "execution_count": 3,
   "outputs": [
    {
     "name": "stdout",
     "text": [
      "Is the magazine sufficient to write the letter? True\nIs the other magazine sufficient to write the letter? False\n"
     ],
     "output_type": "stream"
    }
   ],
   "source": [
    "import collections\n",
    "\n",
    "def is_letter_constructible_from_magazine(letter_text, magazine_text):\n",
    "    # Compute the frequencies for all chars in letter_text.\n",
    "    char_frequency_for_letter = collections.Counter(letter_text)\n",
    "    \n",
    "    # Checks if characters in magazine_text can cover characters in\n",
    "    # char_frequency_for_letter.\n",
    "    for c in magazine_text:\n",
    "        if c in char_frequency_for_letter:\n",
    "            char_frequency_for_letter[c] -= 1\n",
    "            if char_frequency_for_letter[c] == 0:\n",
    "                del char_frequency_for_letter[c]\n",
    "                if not char_frequency_for_letter:\n",
    "                    # All characters for letter_text are matched.\n",
    "                    return True\n",
    "    \n",
    "    # Empty char_Frequency_for_letter means every char in letter_text can be\n",
    "    # covered by a character in magazine_text.\n",
    "    return not char_frequency_for_letter\n",
    "\n",
    "# Pythonic solution that exploits collections.Counter.  Note that the\n",
    "# subtraction only keeps keys with positive counts.\n",
    "def is_letter_constructible_from_magazine_pythonic(letter_text, magazine_text):\n",
    "    return (not collections.Counter(letter_text) - \n",
    "                collections.Counter(magazine_text))\n",
    "\n",
    "anonymous_letter_text = \"to be, or not to be, that is the question\"\n",
    "magazine_text = \"\"\"\n",
    "To be, or not to be, that is the question:\n",
    "Whether 'tis nobler in the mind to suffer\n",
    "The slings and arrows of outrageous fortune,\n",
    "Or to take arms against a sea of troubles\n",
    "And by opposing end them. To die—to sleep,\n",
    "No more; and by a sleep to say we end\n",
    "The heart-ache and the thousand natural shocks\n",
    "That flesh is heir to: 'tis a consummation\n",
    "Devoutly to be wish'd. To die, to sleep;\n",
    "To sleep, perchance to dream—ay, there's the rub:\n",
    "For in that sleep of death what dreams may come,\n",
    "When we have shuffled off this mortal coil,\n",
    "Must give us pause—there's the respect\n",
    "That makes calamity of so long life.\n",
    "For who would bear the whips and scorns of time,\n",
    "Th'oppressor's wrong, the proud man's contumely,\n",
    "The pangs of dispriz'd love, the law's delay,\n",
    "The insolence of office, and the spurns\n",
    "That patient merit of th'unworthy takes,\n",
    "When he himself might his quietus make\n",
    "With a bare bodkin? Who would fardels bear,\n",
    "To grunt and sweat under a weary life,\n",
    "But that the dread of something after death,\n",
    "The undiscovere'd country, from whose bourn\n",
    "No traveller returns, puzzles the will,\n",
    "And makes us rather bear those ills we have\n",
    "Than fly to others that we know not of?\n",
    "Thus conscience does make cowards of us all,\n",
    "And thus the native hue of resolution\n",
    "Is sicklied o'er with the pale cast of thought,\n",
    "And enterprises of great pitch and moment\n",
    "With this regard their currents turn awry\n",
    "And lose the name of action.\n",
    "\"\"\"\n",
    "\n",
    "bad_magazine_text = \"what, me worry?\"\n",
    "\n",
    "sufficient_letters = is_letter_constructible_from_magazine(anonymous_letter_text, magazine_text)\n",
    "print(\"Is the magazine sufficient to write the letter? {0}\".format(sufficient_letters))\n",
    "\n",
    "insufficient_letters = is_letter_constructible_from_magazine_pythonic(anonymous_letter_text, bad_magazine_text)\n",
    "print(\"Is the other magazine sufficient to write the letter? {0}\".format(insufficient_letters))"
   ],
   "metadata": {
    "collapsed": false,
    "pycharm": {
     "name": "#%%\n",
     "is_executing": false
    }
   }
  },
  {
   "cell_type": "markdown",
   "source": [
    "In the worst-case, the letter is not constructible or the last character of the \n",
    "magazine is essentially required.  Therefore, the time complexity is $O(m + n)$ \n",
    "where $m$ and $n$ are the number of characters in the letter and magazine,\n",
    "respectively.  The space complexity is the size of the hash table constructed in\n",
    "the pass over the letter, ie $O(L)$m where $L$ is the number of distinct characters\n",
    "appearing in the letter.\n",
    "\n",
    "If the characters are coded in ASCII, we could do away with the hash table and use\n",
    "a 256 entry integer array $A$, with $A[i]$ being set to the number of times the \n",
    "character $i$ appears in the letter.\n",
    "\n",
    "[References](../reference/12.2.md)\n"
   ],
   "metadata": {
    "collapsed": false
   }
  }
 ],
 "metadata": {
  "kernelspec": {
   "display_name": "Python 3",
   "language": "python",
   "name": "python3"
  },
  "language_info": {
   "codemirror_mode": {
    "name": "ipython",
    "version": 2
   },
   "file_extension": ".py",
   "mimetype": "text/x-python",
   "name": "python",
   "nbconvert_exporter": "python",
   "pygments_lexer": "ipython2",
   "version": "2.7.6"
  },
  "pycharm": {
   "stem_cell": {
    "cell_type": "raw",
    "source": [],
    "metadata": {
     "collapsed": false
    }
   }
  }
 },
 "nbformat": 4,
 "nbformat_minor": 0
}