{
 "cells": [
  {
   "cell_type": "markdown",
   "metadata": {
    "collapsed": true,
    "pycharm": {
     "name": "#%% md\n"
    }
   },
   "source": [
    "# Implementing a Stack with Max API\n",
    "\n",
    "**Design a stack that includes a max operation, in addition to push and pop.  The \n",
    "max method should return the maximum value stored in the stack.**\n",
    "\n",
    "## Solution\n",
    "\n",
    "The simplest way to implement a max operation is to consider each element in the\n",
    "stack, eg by iterating through the underlying array for an array based stack.  The\n",
    "time complexity is $O(n)$ and the space complexity is $O(1)$, where $n$ is the \n",
    "number of elements currently in the stack.\n",
    "\n",
    "The time complexity can be reduced to $O(\\log n)$ using auxiliary data structures,\n",
    "specifically, a heap or a [BST](https://medium.com/@stephenagrice/how-to-implement-a-binary-search-tree-in-python-e1cdba29c533),\n",
    "and a hash table.  The space complexity increases to $O(n)$ and the code is quite\n",
    "complex.\n",
    "\n",
    "Suppose we use a single auxiliary variable, M, to record the element that is maximum\n",
    "in the stack.  Updating M on pushes is easy: $M = max(M,e)$, where `e` is the element\n",
    "being pushed.  However, updating `M` on pop is very time consuming.  If `M` is the\n",
    "element being popped, we have no way of knowing what the maximum remaining element\n",
    "is, and are forced to consider all the remaining elements.\n",
    "\n",
    "We can dramatically improve on the time complexity of popping by caching, in essence,\n",
    "trading time for space.  Specifically, for each entry in the stack, we cache the\n",
    "maximum stored at or below that entry.  Now when we pop, we evict the corresponding\n",
    "cached value."
   ]
  },
  {
   "cell_type": "code",
   "execution_count": 3,
   "outputs": [
    {
     "name": "stdout",
     "text": [
      "Maximum value in stack: 84\n"
     ],
     "output_type": "stream"
    }
   ],
   "source": [
    "import collections\n",
    "import random\n",
    "\n",
    "class Stack:\n",
    "    ElementWithCachedMax = collections.namedtuple('ElementWithCachedMax', \n",
    "                                                  ('element', 'max'))\n",
    "    \n",
    "    def __init__(self) -> None:\n",
    "        self._element_with_cached_max = []\n",
    "        \n",
    "    def empty(self) -> bool:\n",
    "        return len(self._element_with_cached_max) == 0\n",
    "    \n",
    "    def max(self) -> int:\n",
    "        return self._element_with_cached_max[-1].max\n",
    "    \n",
    "    def pop(self) -> int:\n",
    "        return self._element_with_cached_max.pop().element\n",
    "    \n",
    "    def push(self, x: int) -> None:\n",
    "        self._element_with_cached_max.append(\n",
    "            self.ElementWithCachedMax(x, x\n",
    "                                      if self.empty() else max(x, self.max()))\n",
    "        )\n",
    "\n",
    "example_stack = Stack()\n",
    "for i in range(10):\n",
    "    example_stack.push(random.randint(0, 99))\n",
    "\n",
    "print(\"Maximum value in stack: {0}\".format(example_stack.max()))"
   ],
   "metadata": {
    "collapsed": false,
    "pycharm": {
     "name": "#%%\n",
     "is_executing": false
    }
   }
  },
  {
   "cell_type": "markdown",
   "source": [
    "Each of the specified methods has time complexity $O(1)$.  The additional space \n",
    "complexity is $O(n)$, regardless of stored keys.\n",
    "\n",
    "[References](../reference/8.1.md)\n"
   ],
   "metadata": {
    "collapsed": false
   }
  }
 ],
 "metadata": {
  "kernelspec": {
   "display_name": "Python 3",
   "language": "python",
   "name": "python3"
  },
  "language_info": {
   "codemirror_mode": {
    "name": "ipython",
    "version": 2
   },
   "file_extension": ".py",
   "mimetype": "text/x-python",
   "name": "python",
   "nbconvert_exporter": "python",
   "pygments_lexer": "ipython2",
   "version": "2.7.6"
  },
  "pycharm": {
   "stem_cell": {
    "cell_type": "raw",
    "source": [],
    "metadata": {
     "collapsed": false
    }
   }
  }
 },
 "nbformat": 4,
 "nbformat_minor": 0
}