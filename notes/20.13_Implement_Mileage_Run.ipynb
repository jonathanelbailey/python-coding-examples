{
 "cells": [
  {
   "cell_type": "markdown",
   "metadata": {
    "collapsed": true,
    "pycharm": {
     "name": "#%% md\n"
    }
   },
   "source": [
    "# Implement Mileage Run\n",
    "\n",
    "Airlines often give customers who fly frequently with them a \"status\".  This status\n",
    "allows them early boarding, more baggage, upgrades to executive class, etc.\n",
    "Typically, status is a function of miles flown in the past twelve months.  People \n",
    "who travel frequently by air sometimes want to take a round trip flight simply to\n",
    "maintain their status.  The destination is immaterial - the goal is to minimize \n",
    "the cost-per-mile (cpm), ie, the ratio of dollars spent to miles flown.\n",
    "\n",
    "**Design a system that will help its users find mileage runs.**\n",
    "\n",
    "## Solution\n",
    "\n",
    "There are two distinct aspects to the design.  The first is the user facing \n",
    "portion of the system.  The second is the server backend that gets \n",
    "flight-price-distance information and combines it with user input to generate the\n",
    "alerts.\n",
    "\n",
    "We begin with the user-facing portion.  For simplicity, we illustrate it with a \n",
    "web-app, with the realization that the web-app could also be written as a desktop\n",
    "or mobile app.  The web-app has the following components: a login page, a manage\n",
    "alerts page, a create an alert page, and a results page.  For such a system we\n",
    "would like defer to a single-sign-on login service such as that provided by Google\n",
    "or Facebook.  The management page would present login information, a list of alerts,\n",
    "and the ability to create an alert.\n",
    "\n",
    "One reasonable formulation of an alert is that it is an origin city, a target cpm,\n",
    "and optionally, a date or range of travel dates.  The results page would show flights\n",
    "satisfying the constraints.  Note that other formulations are also possible, such as\n",
    "how frequently to check for flights, a set of destinations, a set of origins, etc.\n",
    "\n",
    "The classical approach to implement the web-app front end is through dynamically\n",
    "generated HTML on the server, eg through Java Server Pages.  It can be made more \n",
    "visually appealing and intuitive by making appropriate use of cascaded style sheets,\n",
    "which are used for fonts, colors, and placements.  The UI can be made more efficient \n",
    "through the use of Javascript to autocomplete common fields, and make attractive date\n",
    "pickers.\n",
    "\n",
    "Modern practice is to eschew server-side HTML generation, and instead have a \n",
    "single-page application, in which Javascript reads and writes JSON objects to the\n",
    "server, and incrementally updates the single-page based.  The AngularJS framework\n",
    "supports this approach.\n",
    "\n",
    "The Web-App backend server has four components: gathering flight data, matching\n",
    "user-generated alerts to this data, persisting data and alerts, and generating the\n",
    "responses to browser initiated requests.\n",
    "\n",
    "Flight data can be gathered via \"scraping\" or by subscribing to a flight data \n",
    "service.  Scraping refers to extraction of data from a website.  It can be quite \n",
    "involved - some of the issues are parsing the results from the website, filling in\n",
    "form data, and running the Javascript that often populates the actual results on a\n",
    "page.  Selenium is a Java library that can programmatically interface to the FireFox\n",
    "browser, and is appropriate for scraping sites that are rich in Javascript.  Most \n",
    "flight data services are paid.  ITA software provides a very widely used paid \n",
    "aggregated flight data feed service.  The popular Kayak site provides an XML feed of \n",
    "recently discovered fares, which can be a good free alternative.  Flight data does \n",
    "not include the distance between airports, but there are websites which return the \n",
    "distance between airport codes which can be used to generate the cpm for a flight.\n",
    "\n",
    "There are a number of common web application frameworks - essentially libraries that\n",
    "handle many common tasks - that can be used to generate the server.  Java and Python\n",
    "are very commonly used for writing the backend for web applications.\n",
    "\n",
    "Persistence of data can be implemented through a database.  Most web application\n",
    "frameworks provide support for automating the process of reading and writing objects\n",
    "from and to a database.  Finally, web application frameworks can route incoming HTTP\n",
    "requests to appropriate code - this is through a configuration file matching URLs to\n",
    "methods.  The framework provides convenience methods for accessing HTTP fields and\n",
    "writing results.  Frameworks also provide HTTP templating mechanisms, wherein \n",
    "developers intersperse HTML with snippets of code that dynamically add content to \n",
    "the HTML.\n",
    "\n",
    "Web application frameworks typically implement cron functionality, wherein specified\n",
    "functions are executed at a regular interval.  This can be used to periodically \n",
    "scrape data and check if the condition of an alert is matched by the data.\n",
    "\n",
    "Finally, the web app can be deployed via a platform-as-a-service suh as AWS or GAE.\n",
    "\n"
   ]
  }
 ],
 "metadata": {
  "kernelspec": {
   "display_name": "Python 3",
   "language": "python",
   "name": "python3"
  },
  "language_info": {
   "codemirror_mode": {
    "name": "ipython",
    "version": 2
   },
   "file_extension": ".py",
   "mimetype": "text/x-python",
   "name": "python",
   "nbconvert_exporter": "python",
   "pygments_lexer": "ipython2",
   "version": "2.7.6"
  },
  "pycharm": {
   "stem_cell": {
    "cell_type": "raw",
    "source": [],
    "metadata": {
     "collapsed": false
    }
   }
  }
 },
 "nbformat": 4,
 "nbformat_minor": 0
}