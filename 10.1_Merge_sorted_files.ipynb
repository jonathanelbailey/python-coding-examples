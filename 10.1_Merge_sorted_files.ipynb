{
 "cells": [
  {
   "cell_type": "markdown",
   "metadata": {
    "collapsed": true,
    "pycharm": {
     "name": "#%% md\n"
    }
   },
   "source": [
    "# Merge Sorted Files\n",
    "\n",
    "This problem is motivated by the following scenario.  You are given 500 files,\n",
    "each containing trade information for an S&P 500 company.  Each trade is encoded by\n",
    "a line in the following format: `1232111,AAPL,30,456.12`.\n",
    "\n",
    "The first number is the time of the trade expressed as the number of milliseconds \n",
    "since the start of the day's trading.  Lines within each file are sorted in \n",
    "increasing order of time.  The remaining values are the stock symbol, number of\n",
    "shares, and price.  You are to create a single file containing all the trades from\n",
    "the 500 files, sorted in order of increasing trade times.  The individual files\n",
    "are  of the order of 5-100 megabytes; the combined file will be of the order of\n",
    "five gigabytes.  In the abstract, we are trying to solve the following problem:\n",
    "\n",
    "**Write a program that takes as input a set of sorted sequences and computes the\n",
    "union of these sequences as a sorted sequence.  For example, if the input is `[3,5,7],\n",
    "[0,6], and [0,6,28]`, then the output is `[0,0,3,5,6,6,7,28]`.**\n",
    "\n",
    "## Solution\n",
    "\n",
    "A brute force approach is to concatenate these sequences into a single array and then\n",
    "sort it.  The time complexity is $O(n \\log n)$, assuming there are `n` elements in\n",
    "total.\n",
    "\n",
    "The brute-force approach does not use the fact that the individual sequences are\n",
    "sorted.  We can take advantage of this fact by restricting our attention to the \n",
    "first remaining element in each sequence.  Specificcally, we repeatedly pick the \n",
    "smallest element amongst the first elements off each of the remaining part of each\n",
    "of the sequences.\n",
    "\n",
    "A min-heap is ideal for maintaining a collection of elements when we need to add \n",
    "arbitrary values and extract the smallest element.\n",
    "\n",
    "For ease of exposition, we show how to merge sorted arrays, rather than files.  As\n",
    "a concrete example, suppose there are three sorted arrays to be merged: `[3,5,7],\n",
    "[0,6], and [0,6,28]`.  For simplicity, we show the min-heap as containing entries\n",
    "from these three arrays.  In practice, we need additional information for each entry,\n",
    "namely the array it is from, and its index in that array.  (In the file case we do\n",
    "not need to explicitly maintain an ndex for next unprocessed element in each\n",
    "sequence - the file I/O library tracks the first unread entry in the file.)\n",
    "\n",
    "The min-heap is initialized to the first entry of each array, ie it is `[3,0,0]`.\n",
    "We extract the smallest entry, 0, and add it to the output which is `[0]`.  Then we\n",
    "add 6 to the min-heap which is `[3,0,6]` now.  (We chose the 0 entry corresponding\n",
    "to the third array arbitrarily, it would be perfectly acceptable to choose from\n",
    "the second array.)  Next, extract 0, and add it to the output which is `[0,0]`;\n",
    "then add 6 to the min-heap which is `[3,6,6]`.  Next, extract 3, and add it to the\n",
    "output which is `[0,0,3]`; then add 5 to the min-heap which is `[5,6,6]`.  Next,\n",
    "extract 5, and add it to the output which is `[0,0,3,5]`; then add 7 to the min-heap\n",
    "which is `[7,6,6]`.  Next, extract 6, and add it to the output which is \n",
    "`[0,0,3,5,6]`; assuming 6 is selected from the second array, which has no remaining\n",
    "elements, the min-heap is `[7,6]`.  Next, extract 6, and add it to the output which \n",
    "is `[0,0,3,5,6]`; then add 28 to the min-heap, which is `[7,28]`.  Next, extract\n",
    "7, and add it to the output which is `[0,0,3,5,6,7,28]`; now, all elements are \n",
    "processed and the output stores the sorted elements.\n",
    " "
   ]
  },
  {
   "cell_type": "code",
   "execution_count": null,
   "outputs": [],
   "source": [
    "import heapq\n",
    "\n",
    "def merge_sorted_arrays(sorted_arrays):\n",
    "    min_heap = []\n",
    "    # Builds a list of iterators for each array in sorted_arrays.\n",
    "    sorted_arrays_iters = [iter(x) for x in sorted_arrays]\n",
    "    \n",
    "    # Puts first element from each iterator in min_heap.\n",
    "    for i, it in enumerate(sorted_arrays_iters):\n",
    "        first_element = next(it, None)\n",
    "        if first_element is not None:\n",
    "            heapq.heappush(min_heap, (first_element, i))\n",
    "            \n",
    "    result = []\n",
    "    \n",
    "    while min_heap:\n",
    "        smallest_entry, smallest_array_1 = heapq.heappop(min_heap)\n",
    "        smallest_array_iter = sorted_arrays_iters[smallest_array_1]\n",
    "        result.append(smallest_entry)\n",
    "        next_element = next(smallest_array_iter, None)\n",
    "        if next_element is not None:\n",
    "            heapq.heappush(min_heap, (next_element, smallest_array_1))\n",
    "    \n",
    "    return result\n",
    "\n",
    "# Pythonic solution, uses the heapq.merge() method which takes multiple inputs.\n",
    "def merge_sorted_arrays_pythonic(sorted_arrays):\n",
    "    return list(heapq.merge(*sorted_arrays))\n"
   ],
   "metadata": {
    "collapsed": false,
    "pycharm": {
     "name": "#%%\n"
    }
   }
  },
  {
   "cell_type": "markdown",
   "source": [
    "Let $k$ be the number of input sequences.  Then there are no more than $k$ elements\n",
    "in the min-heap.  Both extract-min and insert take $O(\\log k)$ time.  Hence, we can\n",
    "do the merge in $O(n \\log k)$ time. The space complexity is $O(k)$ beyond the space\n",
    "needed to write the final result.  In particular, if the data comes from files and\n",
    "is written to a file, instead of arrays, we would need only $O(k)$ additional \n",
    "storage.\n",
    "\n",
    "Alternatively, we could recursively merge the `k` files, two at a time using the \n",
    "merge step from merge sort.  We would go from `k` to $k / 2$, the $k / 4$, etc \n",
    "files.  There would be log k stages, and each has time complexity $O(n)$, so the\n",
    "time complexity is the same as that of the heap-based approach, ie $O(n \\log k)$.\n"
   ],
   "metadata": {
    "collapsed": false
   }
  }
 ],
 "metadata": {
  "kernelspec": {
   "display_name": "Python 3",
   "language": "python",
   "name": "python3"
  },
  "language_info": {
   "codemirror_mode": {
    "name": "ipython",
    "version": 2
   },
   "file_extension": ".py",
   "mimetype": "text/x-python",
   "name": "python",
   "nbconvert_exporter": "python",
   "pygments_lexer": "ipython2",
   "version": "2.7.6"
  },
  "pycharm": {
   "stem_cell": {
    "cell_type": "raw",
    "source": [],
    "metadata": {
     "collapsed": false
    }
   }
  }
 },
 "nbformat": 4,
 "nbformat_minor": 0
}